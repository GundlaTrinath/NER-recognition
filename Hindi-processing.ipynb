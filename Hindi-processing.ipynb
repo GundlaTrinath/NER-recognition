{
 "cells": [
  {
   "cell_type": "code",
   "execution_count": 1,
   "metadata": {},
   "outputs": [],
   "source": [
    "#Dependencies\n",
    "import moviepy.editor\n",
    "import tkinter.filedialog\n",
    "from pydub import AudioSegment\n",
    "import os\n",
    "import speech_recognition as sp\n",
    "import spacy\n",
    "import spacy.displacy as displacy \n",
    "from pydub.silence import split_on_silence\n",
    "from gtts import gTTS"
   ]
  },
  {
   "cell_type": "code",
   "execution_count": 2,
   "metadata": {},
   "outputs": [],
   "source": [
    "speech = sp.Recognizer()"
   ]
  },
  {
   "cell_type": "markdown",
   "metadata": {},
   "source": [
    "# V2A"
   ]
  },
  {
   "cell_type": "code",
   "execution_count": 3,
   "metadata": {},
   "outputs": [],
   "source": [
    "def video_to_audio(video_path):\n",
    "    videoSrc = video_path\n",
    "    \n",
    "    audio_store = 'Outputs/Extracted_audio_hindi.wav'\n",
    "    video = moviepy.editor.VideoFileClip(videoSrc)\n",
    "    audio = video.audio\n",
    "    audio.write_audiofile(audio_store)\n",
    "    print(\"Audio file extracted at :{}\".format(audio_store))"
   ]
  },
  {
   "cell_type": "markdown",
   "metadata": {},
   "source": [
    "# Audio splitting"
   ]
  },
  {
   "cell_type": "code",
   "execution_count": 4,
   "metadata": {},
   "outputs": [],
   "source": [
    "def get_large_audio_transcription_hin(path):\n",
    "    sound=AudioSegment.from_wav(path)\n",
    "    chunks=split_on_silence(sound,\n",
    "                            min_silence_len=500,\n",
    "                            silence_thresh=sound.dBFS-14,\n",
    "                            keep_silence=500)\n",
    "    folder_name='audio_chunks2'\n",
    "    if not os.path.isdir(folder_name):\n",
    "        os.mkdir(folder_name)\n",
    "    global whole_text\n",
    "    whole_text2=\" \"\n",
    "    print(\"processing...\")\n",
    "    for i,audio_chunk in enumerate(chunks,start=1):\n",
    "        chunk_filename=os.path.join(folder_name,f\"chunk{i}.wav\")\n",
    "        audio_chunk.export(chunk_filename,format=\"wav\")\n",
    "        with sp.AudioFile(chunk_filename) as source:\n",
    "            audio_listed=speech.listen(source)\n",
    "            try:\n",
    "                text=speech.recognize_google(audio_listed,language=\"hi-IN\")\n",
    "            except sp.UnknownValueError as e:\n",
    "                print('error:',str(e))\n",
    "            else:\n",
    "                text=f\"{text.capitalize()}. \"\n",
    "                #print(chunk_filename,\":\",text)\n",
    "                whole_text2+=text\n",
    "    #wait1.config(text='Extracted Completed')\n",
    "    f1 = open(r\"Outputs/Video-Textual-Data-hindi.txt\",'w+',encoding=\"utf-8\")\n",
    "    in_file2 = whole_text2\n",
    "    f1.write(in_file2)\n",
    "    f1.close()\n",
    "    print(\"File succesfully saved : Outputs/Video-Textual-Data-Hindi.txt\")\n",
    "    return whole_text2"
   ]
  },
  {
   "cell_type": "markdown",
   "metadata": {},
   "source": [
    "# Text to Audio"
   ]
  },
  {
   "cell_type": "code",
   "execution_count": 12,
   "metadata": {},
   "outputs": [],
   "source": [
    "def text_to_audio(file):\n",
    "    f1 = open(file,'r',encoding=\"utf-8\")\n",
    "    with f1 as f:\n",
    "        content = f.read()\n",
    "    f.close()\n",
    "    language='hi'\n",
    "    converted = gTTS(text=content, lang=language,slow=False)\n",
    "    converted.save(\"Outputs/Text-to-Audio-hindi.mp3\")\n",
    "    print(\"file save at location : Outputs/Text-to-audio-hindi.mp3\")"
   ]
  },
  {
   "cell_type": "markdown",
   "metadata": {},
   "source": [
    "# Execution"
   ]
  },
  {
   "cell_type": "code",
   "execution_count": 6,
   "metadata": {},
   "outputs": [
    {
     "name": "stderr",
     "output_type": "stream",
     "text": [
      "\r",
      "chunk:   0%|                                                                        | 0/7884 [00:00<?, ?it/s, now=None]"
     ]
    },
    {
     "name": "stdout",
     "output_type": "stream",
     "text": [
      "MoviePy - Writing audio in Outputs/Extracted_audio_hindi.wav\n"
     ]
    },
    {
     "name": "stderr",
     "output_type": "stream",
     "text": [
      "                                                                                                                       "
     ]
    },
    {
     "name": "stdout",
     "output_type": "stream",
     "text": [
      "MoviePy - Done.\n",
      "Audio file extracted at :Outputs/Extracted_audio_hindi.wav\n"
     ]
    },
    {
     "name": "stderr",
     "output_type": "stream",
     "text": [
      "\r"
     ]
    }
   ],
   "source": [
    "#generating audio file\n",
    "video_to_audio(\"Zee-News-hindi.mp4\")"
   ]
  },
  {
   "cell_type": "code",
   "execution_count": 7,
   "metadata": {},
   "outputs": [
    {
     "name": "stdout",
     "output_type": "stream",
     "text": [
      "processing...\n",
      "File succesfully saved : Outputs/Video-Textual-Data-Hindi.txt\n"
     ]
    }
   ],
   "source": [
    "#\n",
    "location = \"Outputs/Extracted_audio_hindi.wav\"\n",
    "generated_text_hindi= get_large_audio_transcription_hin(location)"
   ]
  },
  {
   "cell_type": "code",
   "execution_count": 8,
   "metadata": {
    "scrolled": true
   },
   "outputs": [
    {
     "name": "stdout",
     "output_type": "stream",
     "text": [
      " और इस वक्त बेहद दुखद खबर आ रही है अभिनेता दिलीप कुमार का निधन हो गया है मुंबई के हिंदुजा अस्पताल में दिलीप कुमार ने अंतिम सांस ली है दिलीप कुमार का निधन हो गया है 98 साल की उम्र में दिलीप कुमार का निधन हुआ है आज सुबह. 7:30. दिलीप कुमार का निधन हुआ है. मुझे बेहद दुखद खबर है. मोहम्मद यूसुफ खान. दिलीप कुमार का 98 साल की उम्र में निधन हो गया है दिलीप कुमार पिछले काफी वक्त से हमने देखा है कि बहुत बार लोगों ने हिंदुजा अस्पताल में भर्ती भी कराया गया सांस लेने में तकलीफ होने लगातार हो रही थी लेकिन फिलहाल. यह खबर आई है कि उनका निधन हो गया है यह बेहद अपने आप में कह सकते हैं कि एक युग का अंत है दिलीप कुमार. जुकी बॉलीवुड का एचडी किंग बॉलीवुड का पहला सुपरस्टार के बॉलीवुड के हमें कह सकते हैं कि सबसे बड़े सुपरस्टार दिया मैंने कह सकते हैं दिलीप कुमार रहे हैं. और दिलीप कुमार के साथ हमेशा सारा बानो साथ खड़ी रही है जब भी वह हिंदुजा अस्पताल जाते रहे जबकि वह दूसरे अस्पताल जागते रहे कोकिलाबेन अस्पताल भी गए लेकिन हिंदुजा अस्पताल जो कि कोविड-19 पता था जिसको सांस लेने में तकलीफ हुई थी उसके बाद उनको वहां से छुट्टी मिल गई थी लेकिन दोबारा हिंदुजा अस्पताल में भर्ती कराया गया था. बेहद दुखद खबर आ रही है दिलीप कुमार का निधन हो गया है आज सुबह. 7:30 बजे दिलीप कुमार ने अंतिम सांस ली है. दिलीप कुमार जैन का असली नाम. युसूफ खान था 11 दिसंबर 1922 को उनका जन्म हुआ था. उस वक्त. हिंदुस्तान एक हुआ करता था पाकिस्तान में प्रचार किए वहां पर उनका जन्म हुआ था. और. बहुत सी फिल्मों में उन्होंने एक्टिंग की. पहले सुपरस्टार एचडी किंग का. पंगा उनको मिला. ज्वार भाटा सोनू ने अपने करियर की शुरुआत की थी 1944 से. बॉम्बे टॉकीज ने इस फिल्म को प्रोड्यूस किया था उसके बाद अंदाज अंदाज देवदास. देवदास के दिलीप कुमार को कौन भूल सकता है आजाद mughal-e-azam यानी कि 1 तरीके से कह सकते हैं कि युग का अंत हो गया है लेकिन वह युग जो कि पीछे हमेशा से छोड़ कर के गए हैं हमेशा जो याद किया जाता है दिलीप कुमार अमर थे अमर है अमर रहेंगे लेकिन दिलीप कुमार इस बीच दुखद खबर है कि हमारे बीच नहीं रहे हैं 98 साल की उम्र में. दिलीप कुमार के निधन की खबर आ रही है. रवि कुमार जो कि अभी हाल ही में लगातार लगभग 1990 के दशक में देखा क्रांति हो सकती हो. दिलीप कुमार एक लंबे वक्त तक शर्मा के साथ जुड़े रहे. पहले सुपर स्टार का दर्जा हमीने दे सकते हैं कि बॉलीवुड के पहले सुपरस्टार एचडी किंग. स्पीच. दिलीप साहब. हमारे बीच युसूफ साहब हमारे बीच नहीं रहे हैं. अरे शाहरुख खान हो सलमान खान हो या फिर दशमी के तमाम ना बड़े अभिनेताओं नसरुद्दीन शाह हो. हर आदमी जो है दिलीप साहब के आगे नतमस्तक हमेशा से रहा है जिस तरीके का उनका उदास जिस तरीके गंगा और आ रहा है. और अगले उनका जन्मदिन रहा हो जब उनके घर पर कभी जन्मदिन ना बनाने की कुछ तस्वीरें सामने आती रही हो या फिर कुछ और रहा हो हमेशा दिलीप साहब के लिए पूरा बॉलीवुड एक साथ खड़ा है पूरा बॉलीवुड जो है एक तरीके से उनको सलाम करता रहा है आज एक शोक की लहर बॉलीवुड के लिए हमारे बीच नहीं रहे. 98 साल की उम्र में दिलीप साहब का निधन हुआ है. हिंदुजा अस्पताल में उन को भर्ती कराया गया तो इससे पहले भी सांस लेने में तकलीफ के चलते उनको हिंदुजा अस्पताल में भर्ती कराया गया था. लेकिन इस बीच उनकी छुट्टी हो गई थी वहां से डिस्चार्ज ने कर दिया गया था ठीक हो गए थे. ऑल. इससे पहले भी दो बार इस तरह की खबर आई तो बर्बाद होने. रागिनी स्कूटी के दिलीप साहब की फेक. जो है मृत्यु की खबर जो है वह गलत है इस तरह की खबरों को खत्म किया जाए वह बिल्कुल ठीक है साथ लेते हैं ठीक-ठाक हैं. लेकिन इसमें यह एक बेहद दुखद खबर आई है कि 98 साल की उम्र में दिलीप साहब नहीं रहे हैं. आज 7:30 बजे. दिलीप साहब का निधन हो गया दिलीप साहब ने अंतिम सांस ली है. यह तस्वीर देख रही है कुछ दिन पहले की तस्वीर है जिस वक्त. उन्हें हिंदुजा अस्पताल में भर्ती कराया गया था सांस लेने में तकलीफ की वजह से. फिर उसके बाद उन्हें वहां से छुट्टी मिल गई थी डिस्चार्ज हो गए थे. लेकिन ना. लगातार. डॉक्टर कीर्ति मन को मॉनिटर कर रही थी. इसमें चाबी कुछ ही देर पहले यह खबर आई कि दिलीप साहब का. निधन हो गया है. इंडस्ट्री के सुपरस्टार इंडस्ट्री के नजदीक इन अमेरिका सकता है मेंटेरी क्यों ना करें. जिस तरीके का का दलित साफ करा है इंडस्ट्री के 1 सबसे बड़े मेंटर के तौर पर हम यह देख सकते हैं कि इंडस्ट्री का पहला सुपरस्टार इंडस्ट्री के इतना बड़ा कद जिसके आगे पूरी इंडस्ट्री जो है वो हमेशा नतमस्तक रही हमेशा जगह सलाम करती रही कि दिलीप साहब का जोधा दिलीप साहब का जो कथा. वह हर किसी ने माना उबले हिंदुस्तान और पाकिस्तान को पूरी दुनिया को पूरा. 1922 में जन्मे थे. और आज उन्होंने अंतिम सांस ली है 7:30. गूगल प्ले एप्स डाउनलोडिंग. \n"
     ]
    }
   ],
   "source": [
    "print(generated_text_hindi)"
   ]
  },
  {
   "cell_type": "code",
   "execution_count": 13,
   "metadata": {},
   "outputs": [
    {
     "name": "stdout",
     "output_type": "stream",
     "text": [
      "file save at location : Outputs/Text-to-audio-hindi.mp3\n"
     ]
    }
   ],
   "source": [
    "filename = \"hindi text.txt\"\n",
    "text_to_audio(filename)"
   ]
  },
  {
   "cell_type": "code",
   "execution_count": null,
   "metadata": {},
   "outputs": [],
   "source": []
  }
 ],
 "metadata": {
  "kernelspec": {
   "display_name": "Python 3",
   "language": "python",
   "name": "python3"
  },
  "language_info": {
   "codemirror_mode": {
    "name": "ipython",
    "version": 3
   },
   "file_extension": ".py",
   "mimetype": "text/x-python",
   "name": "python",
   "nbconvert_exporter": "python",
   "pygments_lexer": "ipython3",
   "version": "3.8.5"
  }
 },
 "nbformat": 4,
 "nbformat_minor": 4
}
