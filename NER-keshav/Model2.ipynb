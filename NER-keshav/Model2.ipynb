{
 "cells": [
  {
   "cell_type": "code",
   "execution_count": 11,
   "metadata": {
    "scrolled": true
   },
   "outputs": [
    {
     "name": "stdout",
     "output_type": "stream",
     "text": [
      "Requirement already satisfied: spacy-transformers in c:\\users\\balaji\\anaconda3\\lib\\site-packages (1.0.3)\n",
      "Requirement already satisfied: srsly<3.0.0,>=2.4.0 in c:\\users\\balaji\\anaconda3\\lib\\site-packages (from spacy-transformers) (2.4.1)\n",
      "Requirement already satisfied: transformers<4.7.0,>=3.4.0 in c:\\users\\balaji\\anaconda3\\lib\\site-packages (from spacy-transformers) (4.6.1)\n",
      "Requirement already satisfied: spacy<4.0.0,>=3.0.0 in c:\\users\\balaji\\anaconda3\\lib\\site-packages (from spacy-transformers) (3.0.6)\n",
      "Requirement already satisfied: spacy-alignments<1.0.0,>=0.7.2 in c:\\users\\balaji\\anaconda3\\lib\\site-packages (from spacy-transformers) (0.8.3)\n",
      "Requirement already satisfied: torch>=1.5.0 in c:\\users\\balaji\\anaconda3\\lib\\site-packages (from spacy-transformers) (1.8.1+cu102)\n",
      "Requirement already satisfied: requests<3.0.0,>=2.13.0 in c:\\users\\balaji\\anaconda3\\lib\\site-packages (from spacy<4.0.0,>=3.0.0->spacy-transformers) (2.24.0)\n",
      "Requirement already satisfied: spacy-legacy<3.1.0,>=3.0.4 in c:\\users\\balaji\\anaconda3\\lib\\site-packages (from spacy<4.0.0,>=3.0.0->spacy-transformers) (3.0.5)\n",
      "Requirement already satisfied: preshed<3.1.0,>=3.0.2 in c:\\users\\balaji\\anaconda3\\lib\\site-packages (from spacy<4.0.0,>=3.0.0->spacy-transformers) (3.0.5)\n",
      "Requirement already satisfied: numpy>=1.15.0 in c:\\users\\balaji\\anaconda3\\lib\\site-packages (from spacy<4.0.0,>=3.0.0->spacy-transformers) (1.18.2)\n",
      "Requirement already satisfied: jinja2 in c:\\users\\balaji\\anaconda3\\lib\\site-packages (from spacy<4.0.0,>=3.0.0->spacy-transformers) (2.11.2)\n",
      "Requirement already satisfied: wasabi<1.1.0,>=0.8.1 in c:\\users\\balaji\\anaconda3\\lib\\site-packages (from spacy<4.0.0,>=3.0.0->spacy-transformers) (0.8.2)\n",
      "Requirement already satisfied: tqdm<5.0.0,>=4.38.0 in c:\\users\\balaji\\anaconda3\\lib\\site-packages (from spacy<4.0.0,>=3.0.0->spacy-transformers) (4.50.2)\n",
      "Requirement already satisfied: pathy>=0.3.5 in c:\\users\\balaji\\anaconda3\\lib\\site-packages (from spacy<4.0.0,>=3.0.0->spacy-transformers) (0.5.2)\n",
      "Requirement already satisfied: setuptools in c:\\users\\balaji\\anaconda3\\lib\\site-packages (from spacy<4.0.0,>=3.0.0->spacy-transformers) (50.3.1.post20201107)\n",
      "Requirement already satisfied: catalogue<2.1.0,>=2.0.3 in c:\\users\\balaji\\anaconda3\\lib\\site-packages (from spacy<4.0.0,>=3.0.0->spacy-transformers) (2.0.4)\n",
      "Requirement already satisfied: thinc<8.1.0,>=8.0.3 in c:\\users\\balaji\\anaconda3\\lib\\site-packages (from spacy<4.0.0,>=3.0.0->spacy-transformers) (8.0.3)\n",
      "Requirement already satisfied: packaging>=20.0 in c:\\users\\balaji\\anaconda3\\lib\\site-packages (from spacy<4.0.0,>=3.0.0->spacy-transformers) (20.4)\n",
      "Requirement already satisfied: pydantic<1.8.0,>=1.7.1 in c:\\users\\balaji\\anaconda3\\lib\\site-packages (from spacy<4.0.0,>=3.0.0->spacy-transformers) (1.7.4)\n",
      "Requirement already satisfied: blis<0.8.0,>=0.4.0 in c:\\users\\balaji\\anaconda3\\lib\\site-packages (from spacy<4.0.0,>=3.0.0->spacy-transformers) (0.7.4)\n",
      "Requirement already satisfied: murmurhash<1.1.0,>=0.28.0 in c:\\users\\balaji\\anaconda3\\lib\\site-packages (from spacy<4.0.0,>=3.0.0->spacy-transformers) (1.0.5)\n",
      "Requirement already satisfied: typer<0.4.0,>=0.3.0 in c:\\users\\balaji\\anaconda3\\lib\\site-packages (from spacy<4.0.0,>=3.0.0->spacy-transformers) (0.3.2)\n",
      "Requirement already satisfied: cymem<2.1.0,>=2.0.2 in c:\\users\\balaji\\anaconda3\\lib\\site-packages (from spacy<4.0.0,>=3.0.0->spacy-transformers) (2.0.5)\n",
      "Requirement already satisfied: pyparsing>=2.0.2 in c:\\users\\balaji\\anaconda3\\lib\\site-packages (from packaging>=20.0->spacy<4.0.0,>=3.0.0->spacy-transformers) (2.4.7)\n",
      "Requirement already satisfied: six in c:\\users\\balaji\\anaconda3\\lib\\site-packages (from packaging>=20.0->spacy<4.0.0,>=3.0.0->spacy-transformers) (1.15.0)\n",
      "Requirement already satisfied: smart-open<4.0.0,>=2.2.0 in c:\\users\\balaji\\anaconda3\\lib\\site-packages (from pathy>=0.3.5->spacy<4.0.0,>=3.0.0->spacy-transformers) (3.0.0)\n",
      "Requirement already satisfied: certifi>=2017.4.17 in c:\\users\\balaji\\anaconda3\\lib\\site-packages (from requests<3.0.0,>=2.13.0->spacy<4.0.0,>=3.0.0->spacy-transformers) (2020.6.20)\n",
      "Requirement already satisfied: chardet<4,>=3.0.2 in c:\\users\\balaji\\anaconda3\\lib\\site-packages (from requests<3.0.0,>=2.13.0->spacy<4.0.0,>=3.0.0->spacy-transformers) (3.0.4)\n",
      "Requirement already satisfied: urllib3!=1.25.0,!=1.25.1,<1.26,>=1.21.1 in c:\\users\\balaji\\anaconda3\\lib\\site-packages (from requests<3.0.0,>=2.13.0->spacy<4.0.0,>=3.0.0->spacy-transformers) (1.25.11)\n",
      "Requirement already satisfied: idna<3,>=2.5 in c:\\users\\balaji\\anaconda3\\lib\\site-packages (from requests<3.0.0,>=2.13.0->spacy<4.0.0,>=3.0.0->spacy-transformers) (2.10)\n",
      "Requirement already satisfied: typing-extensions in c:\\users\\balaji\\anaconda3\\lib\\site-packages (from torch>=1.5.0->spacy-transformers) (3.7.4.3)\n",
      "Requirement already satisfied: sacremoses in c:\\users\\balaji\\anaconda3\\lib\\site-packages (from transformers<4.7.0,>=3.4.0->spacy-transformers) (0.0.45)\n",
      "Requirement already satisfied: filelock in c:\\users\\balaji\\anaconda3\\lib\\site-packages (from transformers<4.7.0,>=3.4.0->spacy-transformers) (3.0.12)\n",
      "Requirement already satisfied: huggingface-hub==0.0.8 in c:\\users\\balaji\\anaconda3\\lib\\site-packages (from transformers<4.7.0,>=3.4.0->spacy-transformers) (0.0.8)\n",
      "Requirement already satisfied: tokenizers<0.11,>=0.10.1 in c:\\users\\balaji\\anaconda3\\lib\\site-packages (from transformers<4.7.0,>=3.4.0->spacy-transformers) (0.10.3)\n",
      "Requirement already satisfied: regex!=2019.12.17 in c:\\users\\balaji\\anaconda3\\lib\\site-packages (from transformers<4.7.0,>=3.4.0->spacy-transformers) (2020.10.15)\n",
      "Requirement already satisfied: click<7.2.0,>=7.1.1 in c:\\users\\balaji\\anaconda3\\lib\\site-packages (from typer<0.4.0,>=0.3.0->spacy<4.0.0,>=3.0.0->spacy-transformers) (7.1.2)\n",
      "Requirement already satisfied: MarkupSafe>=0.23 in c:\\users\\balaji\\anaconda3\\lib\\site-packages (from jinja2->spacy<4.0.0,>=3.0.0->spacy-transformers) (1.1.1)\n",
      "Requirement already satisfied: joblib in c:\\users\\balaji\\anaconda3\\lib\\site-packages (from sacremoses->transformers<4.7.0,>=3.4.0->spacy-transformers) (0.17.0)\n"
     ]
    },
    {
     "name": "stderr",
     "output_type": "stream",
     "text": [
      "WARNING: You are using pip version 21.0.1; however, version 21.1.3 is available.\n",
      "You should consider upgrading via the 'c:\\users\\balaji\\anaconda3\\python.exe -m pip install --upgrade pip' command.\n"
     ]
    }
   ],
   "source": [
    "!pip install spacy-transformers"
   ]
  },
  {
   "cell_type": "code",
   "execution_count": 12,
   "metadata": {
    "scrolled": true
   },
   "outputs": [
    {
     "name": "stdout",
     "output_type": "stream",
     "text": [
      "Collecting en-core-web-trf==3.0.0\n",
      "  Downloading https://github.com/explosion/spacy-models/releases/download/en_core_web_trf-3.0.0/en_core_web_trf-3.0.0-py3-none-any.whl (459.7 MB)\n",
      "Requirement already satisfied: spacy-transformers<1.1.0,>=1.0.0rc4 in c:\\users\\balaji\\anaconda3\\lib\\site-packages (from en-core-web-trf==3.0.0) (1.0.3)\n",
      "Requirement already satisfied: spacy<3.1.0,>=3.0.0 in c:\\users\\balaji\\anaconda3\\lib\\site-packages (from en-core-web-trf==3.0.0) (3.0.6)\n",
      "Requirement already satisfied: preshed<3.1.0,>=3.0.2 in c:\\users\\balaji\\anaconda3\\lib\\site-packages (from spacy<3.1.0,>=3.0.0->en-core-web-trf==3.0.0) (3.0.5)\n",
      "Requirement already satisfied: catalogue<2.1.0,>=2.0.3 in c:\\users\\balaji\\anaconda3\\lib\\site-packages (from spacy<3.1.0,>=3.0.0->en-core-web-trf==3.0.0) (2.0.4)\n",
      "Requirement already satisfied: tqdm<5.0.0,>=4.38.0 in c:\\users\\balaji\\anaconda3\\lib\\site-packages (from spacy<3.1.0,>=3.0.0->en-core-web-trf==3.0.0) (4.50.2)\n",
      "Requirement already satisfied: thinc<8.1.0,>=8.0.3 in c:\\users\\balaji\\anaconda3\\lib\\site-packages (from spacy<3.1.0,>=3.0.0->en-core-web-trf==3.0.0) (8.0.3)\n",
      "Requirement already satisfied: blis<0.8.0,>=0.4.0 in c:\\users\\balaji\\anaconda3\\lib\\site-packages (from spacy<3.1.0,>=3.0.0->en-core-web-trf==3.0.0) (0.7.4)\n",
      "Requirement already satisfied: numpy>=1.15.0 in c:\\users\\balaji\\anaconda3\\lib\\site-packages (from spacy<3.1.0,>=3.0.0->en-core-web-trf==3.0.0) (1.18.2)\n",
      "Requirement already satisfied: packaging>=20.0 in c:\\users\\balaji\\anaconda3\\lib\\site-packages (from spacy<3.1.0,>=3.0.0->en-core-web-trf==3.0.0) (20.4)\n",
      "Requirement already satisfied: requests<3.0.0,>=2.13.0 in c:\\users\\balaji\\anaconda3\\lib\\site-packages (from spacy<3.1.0,>=3.0.0->en-core-web-trf==3.0.0) (2.24.0)\n",
      "Requirement already satisfied: pathy>=0.3.5 in c:\\users\\balaji\\anaconda3\\lib\\site-packages (from spacy<3.1.0,>=3.0.0->en-core-web-trf==3.0.0) (0.5.2)\n",
      "Requirement already satisfied: typer<0.4.0,>=0.3.0 in c:\\users\\balaji\\anaconda3\\lib\\site-packages (from spacy<3.1.0,>=3.0.0->en-core-web-trf==3.0.0) (0.3.2)\n",
      "Requirement already satisfied: setuptools in c:\\users\\balaji\\anaconda3\\lib\\site-packages (from spacy<3.1.0,>=3.0.0->en-core-web-trf==3.0.0) (50.3.1.post20201107)\n",
      "Requirement already satisfied: murmurhash<1.1.0,>=0.28.0 in c:\\users\\balaji\\anaconda3\\lib\\site-packages (from spacy<3.1.0,>=3.0.0->en-core-web-trf==3.0.0) (1.0.5)\n",
      "Requirement already satisfied: cymem<2.1.0,>=2.0.2 in c:\\users\\balaji\\anaconda3\\lib\\site-packages (from spacy<3.1.0,>=3.0.0->en-core-web-trf==3.0.0) (2.0.5)\n",
      "Requirement already satisfied: spacy-legacy<3.1.0,>=3.0.4 in c:\\users\\balaji\\anaconda3\\lib\\site-packages (from spacy<3.1.0,>=3.0.0->en-core-web-trf==3.0.0) (3.0.5)\n",
      "Requirement already satisfied: wasabi<1.1.0,>=0.8.1 in c:\\users\\balaji\\anaconda3\\lib\\site-packages (from spacy<3.1.0,>=3.0.0->en-core-web-trf==3.0.0) (0.8.2)\n",
      "Requirement already satisfied: srsly<3.0.0,>=2.4.1 in c:\\users\\balaji\\anaconda3\\lib\\site-packages (from spacy<3.1.0,>=3.0.0->en-core-web-trf==3.0.0) (2.4.1)\n",
      "Requirement already satisfied: jinja2 in c:\\users\\balaji\\anaconda3\\lib\\site-packages (from spacy<3.1.0,>=3.0.0->en-core-web-trf==3.0.0) (2.11.2)\n",
      "Requirement already satisfied: pydantic<1.8.0,>=1.7.1 in c:\\users\\balaji\\anaconda3\\lib\\site-packages (from spacy<3.1.0,>=3.0.0->en-core-web-trf==3.0.0) (1.7.4)\n",
      "Requirement already satisfied: pyparsing>=2.0.2 in c:\\users\\balaji\\anaconda3\\lib\\site-packages (from packaging>=20.0->spacy<3.1.0,>=3.0.0->en-core-web-trf==3.0.0) (2.4.7)\n",
      "Requirement already satisfied: six in c:\\users\\balaji\\anaconda3\\lib\\site-packages (from packaging>=20.0->spacy<3.1.0,>=3.0.0->en-core-web-trf==3.0.0) (1.15.0)\n",
      "Requirement already satisfied: smart-open<4.0.0,>=2.2.0 in c:\\users\\balaji\\anaconda3\\lib\\site-packages (from pathy>=0.3.5->spacy<3.1.0,>=3.0.0->en-core-web-trf==3.0.0) (3.0.0)\n",
      "Requirement already satisfied: idna<3,>=2.5 in c:\\users\\balaji\\anaconda3\\lib\\site-packages (from requests<3.0.0,>=2.13.0->spacy<3.1.0,>=3.0.0->en-core-web-trf==3.0.0) (2.10)\n",
      "Requirement already satisfied: chardet<4,>=3.0.2 in c:\\users\\balaji\\anaconda3\\lib\\site-packages (from requests<3.0.0,>=2.13.0->spacy<3.1.0,>=3.0.0->en-core-web-trf==3.0.0) (3.0.4)\n",
      "Requirement already satisfied: certifi>=2017.4.17 in c:\\users\\balaji\\anaconda3\\lib\\site-packages (from requests<3.0.0,>=2.13.0->spacy<3.1.0,>=3.0.0->en-core-web-trf==3.0.0) (2020.6.20)\n",
      "Requirement already satisfied: urllib3!=1.25.0,!=1.25.1,<1.26,>=1.21.1 in c:\\users\\balaji\\anaconda3\\lib\\site-packages (from requests<3.0.0,>=2.13.0->spacy<3.1.0,>=3.0.0->en-core-web-trf==3.0.0) (1.25.11)\n",
      "Requirement already satisfied: transformers<4.7.0,>=3.4.0 in c:\\users\\balaji\\anaconda3\\lib\\site-packages (from spacy-transformers<1.1.0,>=1.0.0rc4->en-core-web-trf==3.0.0) (4.6.1)\n",
      "Requirement already satisfied: spacy-alignments<1.0.0,>=0.7.2 in c:\\users\\balaji\\anaconda3\\lib\\site-packages (from spacy-transformers<1.1.0,>=1.0.0rc4->en-core-web-trf==3.0.0) (0.8.3)\n",
      "Requirement already satisfied: torch>=1.5.0 in c:\\users\\balaji\\anaconda3\\lib\\site-packages (from spacy-transformers<1.1.0,>=1.0.0rc4->en-core-web-trf==3.0.0) (1.8.1+cu102)\n",
      "Requirement already satisfied: typing-extensions in c:\\users\\balaji\\anaconda3\\lib\\site-packages (from torch>=1.5.0->spacy-transformers<1.1.0,>=1.0.0rc4->en-core-web-trf==3.0.0) (3.7.4.3)\n",
      "Requirement already satisfied: huggingface-hub==0.0.8 in c:\\users\\balaji\\anaconda3\\lib\\site-packages (from transformers<4.7.0,>=3.4.0->spacy-transformers<1.1.0,>=1.0.0rc4->en-core-web-trf==3.0.0) (0.0.8)\n",
      "Requirement already satisfied: regex!=2019.12.17 in c:\\users\\balaji\\anaconda3\\lib\\site-packages (from transformers<4.7.0,>=3.4.0->spacy-transformers<1.1.0,>=1.0.0rc4->en-core-web-trf==3.0.0) (2020.10.15)\n",
      "Requirement already satisfied: filelock in c:\\users\\balaji\\anaconda3\\lib\\site-packages (from transformers<4.7.0,>=3.4.0->spacy-transformers<1.1.0,>=1.0.0rc4->en-core-web-trf==3.0.0) (3.0.12)\n",
      "Requirement already satisfied: sacremoses in c:\\users\\balaji\\anaconda3\\lib\\site-packages (from transformers<4.7.0,>=3.4.0->spacy-transformers<1.1.0,>=1.0.0rc4->en-core-web-trf==3.0.0) (0.0.45)\n",
      "Requirement already satisfied: tokenizers<0.11,>=0.10.1 in c:\\users\\balaji\\anaconda3\\lib\\site-packages (from transformers<4.7.0,>=3.4.0->spacy-transformers<1.1.0,>=1.0.0rc4->en-core-web-trf==3.0.0) (0.10.3)\n",
      "Requirement already satisfied: click<7.2.0,>=7.1.1 in c:\\users\\balaji\\anaconda3\\lib\\site-packages (from typer<0.4.0,>=0.3.0->spacy<3.1.0,>=3.0.0->en-core-web-trf==3.0.0) (7.1.2)\n",
      "Requirement already satisfied: MarkupSafe>=0.23 in c:\\users\\balaji\\anaconda3\\lib\\site-packages (from jinja2->spacy<3.1.0,>=3.0.0->en-core-web-trf==3.0.0) (1.1.1)\n",
      "Requirement already satisfied: joblib in c:\\users\\balaji\\anaconda3\\lib\\site-packages (from sacremoses->transformers<4.7.0,>=3.4.0->spacy-transformers<1.1.0,>=1.0.0rc4->en-core-web-trf==3.0.0) (0.17.0)\n",
      "[+] Download and installation successful\n",
      "You can now load the package via spacy.load('en_core_web_trf')\n"
     ]
    },
    {
     "name": "stderr",
     "output_type": "stream",
     "text": [
      "2021-07-14 15:38:59.256744: W tensorflow/stream_executor/platform/default/dso_loader.cc:59] Could not load dynamic library 'cudart64_101.dll'; dlerror: cudart64_101.dll not found\n",
      "2021-07-14 15:38:59.256777: I tensorflow/stream_executor/cuda/cudart_stub.cc:29] Ignore above cudart dlerror if you do not have a GPU set up on your machine.\n",
      "WARNING: You are using pip version 21.0.1; however, version 21.1.3 is available.\n",
      "You should consider upgrading via the 'C:\\Users\\BALAJI\\anaconda3\\python.exe -m pip install --upgrade pip' command.\n"
     ]
    }
   ],
   "source": [
    "!python -m spacy download en_core_web_trf"
   ]
  },
  {
   "cell_type": "code",
   "execution_count": 1,
   "metadata": {},
   "outputs": [],
   "source": [
    "import os\n",
    "import nltk\n",
    "import pandas as pd\n",
    "from spacy import displacy\n",
    "import spacy"
   ]
  },
  {
   "cell_type": "code",
   "execution_count": 2,
   "metadata": {},
   "outputs": [],
   "source": [
    "textfile = open(r\"Outputs/Clean-Tokens.txt\",'r')"
   ]
  },
  {
   "cell_type": "code",
   "execution_count": 3,
   "metadata": {},
   "outputs": [],
   "source": [
    "with textfile as f:\n",
    "    content = f.read()"
   ]
  },
  {
   "cell_type": "code",
   "execution_count": 4,
   "metadata": {
    "scrolled": true
   },
   "outputs": [
    {
     "name": "stdout",
     "output_type": "stream",
     "text": [
      "Imagine this.Bank balance dropped 20 secret data wiped service stock prices going crazy trains running control room work airports operating computers knocked can't drive anyway traffic lights stuck red internet power heaven destabilized within matter hours entire country plunges chaos even know who's behind it.This story movie possibility distant future could happen today real life.The question is.How going stop it.Hello welcome private class sample ki sharma upadhyay 4th july america celebrate independence cyber criminal gang without hacking spree infiltrated florida based firm launched ransomware attack hacker store data demanded 70 million dollars return victims including 1500 organisations around world government agencies small businesses banks supermarket stephen school.If call biggest ransomware attack record underscores need companies government agencies well focus improving cyber security behind cyber security community said could evil.A group hacker also behind solar wind hack 2020 trojan horse exploited software three us firms microsoft solarwinds vmware.What happened next.It's data biggest organisations world nasa ne toda european parliament british government us treasury department us telecom department department commerce.Who exactly hacker.No one knows say china city russia identity remains mystery.What tell you.The world entering new age war 1 could change everything know human conflict.Recall it.Cyber warfare.Cyber war war two computers involve armies.It clear rules.A progress fast paisa cyber war fought today's economic social cultural military.90% cyber attacks economic nature targeting banks.North korea added apparently team dedicated robbing banks.The beagle boys.2015 stolen least 30 countries 2016 digital 81 million dollars bank bangladesh.In 2018.Install 805 million rupees india cosmos bank based pune.Fibre launch money.Also power propaganda.Misleading public information kind cyberwarfare russian age.Baby neck use meddling 2016 us presidential election manipulate database hacking campaign presidential candidate spreading propaganda social media still accusation russian president says still waiting america provide evidence.Shambhu ki barat.Adna.Near nagaraja.Rustom mp3.Intellectual property rights another big reason cyber war.The country racing china april year network spectre chinese hacking group carried cyber attack microsoft email 30000 american organisation.It's sure much data idea store.And military attack potent threat.This includes espionage.Crafting information.Disrupting military programs controlling command room.The fast think russia china think attacks.No one ever thinks america probably americans good pr always putting good guys.But washington's capabilities carrying cyber striker parallel.Have ever had.Stuxnet.It computer worm detected 2010.This one almost triple iran's nuclear program.If marksman job.The wind introduced arrangement power station usb flash drive spread across uk network exploded look weaknesses 16 found worm altered key systems operated leading failure critical components.How much damage cause quite lot.If damaged least 984 iran's uranium writing centrifuges machine.But current estimates led 30% decrease iran's uranium enrichment efficiency.Who behind bomb attack.It said handiwork cia massage.Israel's intelligence agency.Tezu.Iran edward snowden.It's interesting.Let show images places may never heard of.This flying days.In england's north york moors.If air force station place all.This building see.Recalling pyramid actually joint radar.Something similar miles away last dinosaurs base airplane.It another one located far south beal small town desert california.One cape cod massachusetts.An empty force based hidden forest.And yet another one frozen north greenland.Air force base airplanes forces.What exactly installation role part america's early warning system readers built detect attacks american elisa stop incoming nuclear missile.Real pubg dedicated satellites space.You call nervous system american defence.In january 2020 death rain general qassem soleimani iran launched dozen missiles us military bases iraq dozen missiles get damage minimal.Us space force confirm system.Which helped counter attack.The system work.As intended.But given technological advancements today's world imagine system would hacked.It's going nightmare scenario leave america's defence infrastructure blind might push entire world chaos.According america's greatest nuclear posture review.Which basically instruction manual weapons.20 vedas crucial get attacked.America would respond using nuclear weapons this.Is reality.A cyber warfare.Pawan cyber intrusion.Construction terrifying chain events.One escalation evolve something apocalyptic warning sach doomsday scenario quite sometime 2013 rain hackers infiltrated control system dam near new york city.Investigator describe hack tip iceberg said next target much larger dam oregon.10 december 2015 world witnessed first power outage due cyber attack.Hackers compromise assistance 3 energy companies ukraine living 200 30,000 people without electricity 6 hours.Image 2021 cyber attack america's largest pipeline system colonial five planet force company shut operations freeze system.It took three days restore pipeline.Driving gas prices highest level three years.Visible indication.The age cyber warfare bonus wide-ranging cheap anonymous makes hard come back.It result collapse supply chains market government.Basically anything internet interface address now.I like believe government job protect us.But declared war invisible enemy.So god.I security agency.How that.8 simple steps old.You secure internet connection.Check links clicking keep system software strong enough date.If device connected office network.Ensure endpoint protection.Install firewall block attacks.Backup data never know might lose.And all.Control access systems let people plugin random tips rice basic.And cases help.On bigger level government state put safeguards place.Cyberwarfare cannot remain regulated affair.We nuclear conventions treaties.The cyber new nucleya.So need regulation.Pleasures government promote harbour cyber mercenaries.It happen hurry.Because wants government.Badhiya photo must begin.For sake war.\n"
     ]
    }
   ],
   "source": [
    "print(content)"
   ]
  },
  {
   "cell_type": "code",
   "execution_count": 5,
   "metadata": {},
   "outputs": [],
   "source": [
    "model = spacy.load(\"en_core_web_trf\")"
   ]
  },
  {
   "cell_type": "code",
   "execution_count": 6,
   "metadata": {},
   "outputs": [],
   "source": [
    "doc = model(content)\n",
    "\n",
    "entities = []\n",
    "labels = []\n",
    "start_pos = []\n",
    "end_pos = []"
   ]
  },
  {
   "cell_type": "code",
   "execution_count": null,
   "metadata": {},
   "outputs": [],
   "source": []
  },
  {
   "cell_type": "code",
   "execution_count": 7,
   "metadata": {},
   "outputs": [],
   "source": [
    "for ent in doc.ents:\n",
    "    entities.append(ent)\n",
    "    labels.append(ent.label_)\n",
    "    start_pos.append(ent.start_char)\n",
    "    end_pos.append(ent.end_char)"
   ]
  },
  {
   "cell_type": "code",
   "execution_count": 8,
   "metadata": {},
   "outputs": [],
   "source": [
    "df = pd.DataFrame({'Entities':entities,\n",
    "                   'Labels':labels,\n",
    "                   'Position_Start':start_pos,\n",
    "                   'Position_end':end_pos})"
   ]
  },
  {
   "cell_type": "code",
   "execution_count": 9,
   "metadata": {
    "scrolled": true
   },
   "outputs": [
    {
     "name": "stdout",
     "output_type": "stream",
     "text": [
      "                  Entities    Labels  Position_Start  Position_end\n",
      "0                     (20)  CARDINAL              34            36\n",
      "1          (matter, hours)      TIME             244           256\n",
      "2                  (today)      DATE             369           374\n",
      "3              (4th, july)      DATE             473           481\n",
      "4                (florida)       GPE             567           574\n",
      "5   (70, million, dollars)     MONEY             640           658\n",
      "6                   (1500)  CARDINAL             684           688\n",
      "7                   (2020)      DATE            1001          1005\n",
      "8                    (two)  CARDINAL            1463          1466\n",
      "9                  (today)      DATE            1546          1551\n",
      "10          (North, korea)       GPE            1638          1649\n",
      "11                    (30)  CARDINAL            1730          1732\n",
      "12                  (2016)      DATE            1743          1747\n",
      "13  (81, million, dollars)     MONEY            1756          1774\n",
      "14  (805, million, rupees)     MONEY            1807          1825\n",
      "15                  (pune)       GPE            1850          1854\n",
      "16               (russian)      NORP            1944          1951\n",
      "17                  (2016)      DATE            1979          1983\n",
      "18               (russian)      NORP            2120          2127\n",
      "19               (america)       GPE            2157          2164\n",
      "20                (Rustom)    PERSON            2218          2224\n",
      "21           (april, year)      DATE            2312          2322\n",
      "22               (chinese)      NORP            2339          2346\n",
      "23              (american)      NORP            2404          2412\n",
      "24               (america)       GPE            2651          2658\n",
      "25             (americans)      NORP            2668          2677\n",
      "26            (washington)       ORG            2715          2725\n",
      "27                 (30, %)   PERCENT            3201          3204\n",
      "28                  (iran)       ORG            3214          3218\n",
      "29                (Israel)       GPE            3304          3310\n",
      "30                  (Tezu)       GPE            3333          3337\n",
      "31                  (Iran)       GPE            3338          3342\n",
      "32                   (One)  CARDINAL            3677          3680\n",
      "33         (massachusetts)       GPE            3690          3703\n",
      "34                   (one)  CARDINAL            3755          3758\n",
      "35               (america)       GPE            3850          3857\n",
      "36              (american)      NORP            3910          3918\n",
      "37                 (elisa)    PERSON            3919          3924\n",
      "38              (american)      NORP            4016          4024\n",
      "39         (january, 2020)      DATE            4036          4048\n",
      "40     (qassem, soleimani)    PERSON            4068          4084\n",
      "41                  (iran)      NORP            4085          4089\n",
      "42                 (today)      DATE            4294          4299\n",
      "43               (america)       GPE            4372          4379\n",
      "44               (america)       GPE            4451          4458\n",
      "45               (America)       GPE            4566          4573\n",
      "46                 (Pawan)       GPE            4642          4647\n",
      "47                   (One)  CARDINAL            4701          4704\n",
      "48                  (2013)      DATE            4791          4795\n",
      "49        (december, 2015)      DATE            4941          4954\n",
      "50                 (first)   ORDINAL            4971          4976\n",
      "51                     (3)  CARDINAL            5037          5038\n",
      "52                   (200)  CARDINAL            5071          5074\n",
      "53                (30,000)  CARDINAL            5075          5081\n",
      "54              (6, hours)      TIME            5109          5116\n",
      "55                  (2021)  CARDINAL            5123          5127\n",
      "56               (america)       GPE            5141          5148\n",
      "57                  (five)  CARDINAL            5184          5188\n",
      "58           (three, days)      DATE            5248          5258\n",
      "59          (three, years)      DATE            5309          5320\n"
     ]
    }
   ],
   "source": [
    "print(df)"
   ]
  },
  {
   "cell_type": "code",
   "execution_count": 10,
   "metadata": {},
   "outputs": [],
   "source": [
    "df.to_csv(\"Outputs/Entities.csv\")"
   ]
  },
  {
   "cell_type": "code",
   "execution_count": null,
   "metadata": {},
   "outputs": [],
   "source": []
  }
 ],
 "metadata": {
  "kernelspec": {
   "display_name": "Python 3",
   "language": "python",
   "name": "python3"
  },
  "language_info": {
   "codemirror_mode": {
    "name": "ipython",
    "version": 3
   },
   "file_extension": ".py",
   "mimetype": "text/x-python",
   "name": "python",
   "nbconvert_exporter": "python",
   "pygments_lexer": "ipython3",
   "version": "3.8.5"
  }
 },
 "nbformat": 4,
 "nbformat_minor": 4
}
