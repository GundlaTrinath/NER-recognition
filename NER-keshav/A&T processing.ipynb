{
 "cells": [
  {
   "cell_type": "code",
   "execution_count": 3,
   "metadata": {},
   "outputs": [],
   "source": [
    "import moviepy.editor\n",
    "import tkinter.filedialog\n",
    "from pydub import AudioSegment\n",
    "import os\n",
    "import speech_recognition as sp\n",
    "import spacy\n",
    "import spacy.displacy as displacy "
   ]
  },
  {
   "cell_type": "code",
   "execution_count": 4,
   "metadata": {},
   "outputs": [],
   "source": [
    "from pydub.silence import split_on_silence\n",
    "import os"
   ]
  },
  {
   "cell_type": "code",
   "execution_count": 5,
   "metadata": {},
   "outputs": [],
   "source": [
    "import nltk"
   ]
  },
  {
   "cell_type": "code",
   "execution_count": 6,
   "metadata": {},
   "outputs": [
    {
     "name": "stderr",
     "output_type": "stream",
     "text": [
      "[nltk_data] Downloading package stopwords to\n",
      "[nltk_data]     C:\\Users\\BALAJI\\AppData\\Roaming\\nltk_data...\n",
      "[nltk_data]   Package stopwords is already up-to-date!\n"
     ]
    },
    {
     "data": {
      "text/plain": [
       "True"
      ]
     },
     "execution_count": 6,
     "metadata": {},
     "output_type": "execute_result"
    }
   ],
   "source": [
    "nltk.download('stopwords')"
   ]
  },
  {
   "cell_type": "code",
   "execution_count": 7,
   "metadata": {},
   "outputs": [],
   "source": [
    "from nltk.corpus import stopwords"
   ]
  },
  {
   "cell_type": "code",
   "execution_count": 8,
   "metadata": {},
   "outputs": [],
   "source": [
    "speech = sp.Recognizer()"
   ]
  },
  {
   "cell_type": "markdown",
   "metadata": {},
   "source": [
    "# Audio splitting"
   ]
  },
  {
   "cell_type": "code",
   "execution_count": 29,
   "metadata": {},
   "outputs": [],
   "source": [
    "def get_large_audio_chunks(audio_file_name):\n",
    "    audio = AudioSegment.from_wav(audio_file_name)\n",
    "    # audio chunks gets splitted when pause is more than 700 milliseconds\n",
    "    chunks= split_on_silence(audio,\n",
    "                             min_silence_len=500,\n",
    "                             silence_thresh = audio.dBFS-14,\n",
    "                             keep_silence=500) \n",
    "    dest_folder = \"audio-chunks\"\n",
    "    if not os.path.isdir(dest_folder):\n",
    "        os.mkdir(dest_folder)\n",
    "    whole_text = \"\"\n",
    "    for i,audio_chunk in enumerate(chunks, start=1):\n",
    "        chunk_filename = os.path.join(dest_folder,f\"chunk{i}.wav\")\n",
    "        audio_chunk.export(chunk_filename, format=\"wav\")\n",
    "        with sp.AudioFile(chunk_filename) as source:\n",
    "            audio_listened = speech.record(source)\n",
    "            try:\n",
    "                text = speech.recognize_google(audio_listened)\n",
    "            except sp.UnknownValueError as e:\n",
    "                print(\"Error:\",str(e))\n",
    "            else:\n",
    "                text=f\"{text.capitalize()}.\"\n",
    "                #print(chunk_filename, \":\",text)\n",
    "                whole_text = whole_text+text\n",
    "    f2 = open(r\"Outputs/Video-Textual-Data.txt\",'w+')\n",
    "    in_file2 = whole_text\n",
    "    f2.write(in_file2)\n",
    "    f2.close()\n",
    "    print(\"File succesfully saved : Video-Textual-Data.txt\")\n",
    "    return whole_text\n",
    "                    "
   ]
  },
  {
   "cell_type": "markdown",
   "metadata": {},
   "source": [
    "# Stopwords filtering"
   ]
  },
  {
   "cell_type": "code",
   "execution_count": 26,
   "metadata": {},
   "outputs": [],
   "source": [
    "def stopwords_clean(text):\n",
    "    #cleaning the generated text by removing stopwords\n",
    "    tokens = [t for t in text.split()]\n",
    "    sr = stopwords.words('english')\n",
    "    clean_Tokens = tokens[:]\n",
    "    #print(tokens) remove comment to check\n",
    "    for token in tokens:\n",
    "        if token in sr:\n",
    "            clean_Tokens.remove(token)\n",
    "    # generate texfile in local directory\n",
    "    f1 = open(r\"Outputs/Clean-Tokens.txt\",'w+')\n",
    "    in_file = ' '.join(map(str,clean_Tokens))\n",
    "    f1.write(in_file)\n",
    "    f1.close()\n",
    "    print(\"File succesfully saved : Clean-Tokens.txt\")\n",
    "    return clean_Tokens"
   ]
  },
  {
   "cell_type": "markdown",
   "metadata": {
    "scrolled": true
   },
   "source": [
    "# Execution"
   ]
  },
  {
   "cell_type": "code",
   "execution_count": 30,
   "metadata": {},
   "outputs": [],
   "source": [
    "audio_file_name = \"Extracted_audio.wav\""
   ]
  },
  {
   "cell_type": "code",
   "execution_count": 32,
   "metadata": {
    "scrolled": true
   },
   "outputs": [
    {
     "name": "stdout",
     "output_type": "stream",
     "text": [
      "File succesfully saved : Video-Textual-Data.txt\n"
     ]
    }
   ],
   "source": [
    "#Generating text\n",
    "generated_text=get_large_audio_chunks(audio_file_name)"
   ]
  },
  {
   "cell_type": "code",
   "execution_count": null,
   "metadata": {},
   "outputs": [],
   "source": [
    "print(generated_text)"
   ]
  },
  {
   "cell_type": "code",
   "execution_count": 27,
   "metadata": {},
   "outputs": [
    {
     "name": "stdout",
     "output_type": "stream",
     "text": [
      "File succesfully saved : Clean-Tokens.txt\n"
     ]
    }
   ],
   "source": [
    "#stopwords filtering\n",
    "clean_tokens=stopwords_clean(generated_text)"
   ]
  },
  {
   "cell_type": "code",
   "execution_count": 28,
   "metadata": {
    "scrolled": true
   },
   "outputs": [
    {
     "name": "stdout",
     "output_type": "stream",
     "text": [
      "['You', 'know', 'channel', 'building', 'gateway', 'south', 'asia', 'new', 'metropolis', 'size', 'central', 'london', 'financial', 'analyst', 'dubai', 'business', 'friendly', 'atmosphere', 'like', 'singapore.Which', 'city', 'lined', 'chinese', 'skyscrapers', 'exotic', 'hotels', 'theme', 'park', 'il', 'population', '80,000', 'people', 'thousands', 'commuting', 'day', 'new', 'job', 'opportunities', 'good', 'money', 'good', 'lifestyle.I', 'know', 'sounds', 'like', 'typing', 'plan', 'wait', 'till', 'hear', 'plan', 'hacked.Sure.Right', 'backyard', 'india', '290', 'km', 'away', 'tamilnadu', 'port', 'city', 'colombo.Do', 'know', 'built.Spider', 'climbing', 'table', 'hectares', 'land', 'sea.June', 'white', 'pink', 'belt.Give', 'china', 'strategic', 'edge', 'indian', 'ocean.Aisa', 'speak', '10th', 'sri', 'lankan', 'ship', 'sponsored', 'china', 'working', 'overtime', 'read', 'stand', 'bottom', 'indian', 'ocean', 'put', '600', 'acres', 'trip', 'get', 'city', 'going', 'question', 'student', 'get', 'going', 'roll.Hello', 'welcome', 'gravitas', 'plus', 'sharma', 'upadhyay', \"china's\", 'building', 'nest', 'sri', 'lanka', 'colombo', 'port', 'city', '1.4', 'billion', 'dollar', 'project', 'overlooking', 'colombo', 'port.The', 'city', 'part', 'china', 'belt', 'road', 'initiative', 'initiative', 'plant', 'several', 'countries', 'death.And', 'one', 'piece', 'puzzle', 'here.The', 'concerns', 'many', 'get', 'bit', 'first', \"let's\", 'understand', 'project', 'really', 'idea', 'came', 'mahinda', 'rajapaksa', 'president', 'sri', 'lanka.He', 'inspecting', 'landfill', 'near', 'columbus', 'southport.An', 'asset', 'inspired', 'build', 'well', 'planned', 'city', 'based', 'model', 'world', 'biggest', 'financial', 'hub.David', '2004.For', 'next', '10', 'years', 'several', 'proposals', 'made', 'idea', 'never', 'saw', 'light', 'day.Then', '2014', 'china', 'enter', 'picture', 'checkbox', 'construction', 'might.2', 'state', 'chinese', 'companies', 'submitted', 'unsolicited', 'proposal', 'fulfill', 'rajapaksa', 'dream.Sri', 'lanka', 'accept', 'proposal', 'wanted.20', 'chinese', 'firms', 'among', 'fortune', '500', 'companies', 'one', 'packages', 'reclaiming', 'land', 'sea', 'constructing', 'breakwater', 'connecting', 'road', 'network', 'supply', 'services', 'work.But', 'say', 'them.What', 'stand', 'gain.Land', 'lease.Allow', 'explain.Chinese', 'consortium', 'invested', '1.4', 'billion', 'dollars', 'develop', 'area', '269', 'ha.Out', '125', 'hectares', 'land', 'taken', 'sri', 'lankan', 'government', '88', 'ha', 'vi', 'owned', 'sri', 'lankan', 'government', 'given', 'china', '99', 'year', 'lease', 'class', 'freehold', '20', 'hectares', 'land', 'sounds', 'little', 'complicated', 'simple', 'word', 'sri', 'lanka', 'sold', 'land', 'resources', 'return', 'development', 'money', 'china.The', 'project', 'launched', 'september', '2014', 'grand', 'ceremony', 'dozens', 'school', 'children', 'elephants', 'chinese', 'president', 'xi', 'jinping', 'london', 'colombo', 'green', 'flag', 'project.The', 'visit.But', 'highly', 'scrutinize.Questions', 'raised.Why', 'colombo', 'granted', 'lease', 'china.Whom', 'help.Sri', 'lanka', 'already', 'borrowed', 'millions', 'dollars', 'china', 'construction', 'hambantota', 'port', 'old', 'habit.Now', 'granted', 'china', 'land', 'lease', 'concern', 'valid.What', 'sri', 'lanka', 'excuse', 'time', 'former', 'chairman', 'sri', 'lankan', 'port', 'authority', 'said', 'listen', 'carefully', 'receive', 'large', 'financial', 'benefit', 'granting', 'land', 'extends', 'long-term', 'lease', 'enable', 'us', 'receive', 'large', 'financial', 'benefit.Which', 'turn.Enable', 'ask', 'pay', 'back', 'loan.Is', 'classic', 'case', 'counting', 'chickens', 'hatch.No', 'body', 'convinced.Rajapaksa', 'government', 'spend', 'next', 'president', 'prime', 'minister', 'ranil', 'wickremesinghe', 'briefly', 'hold', 'project.But', 'financial', 'diplomatic', 'obligation', 'scrap.In', '2019', 'rajapaksa', 'came', 'back', 'power', 'promised', 'expedite', 'project.The', 'sense', 'urgency', 'ko', 'walls', 'criticism', 'mounted', 'today', 'sri', 'lankan', 'stem', 'cells', 'opinions', 'project', 'concerns.Madras', 'table.First', 'social', 'concern.High-end', 'luxury', 'concession', 'foreigners', 'none', 'local.They', 'say', 'benefits', 'get', 'short', 'term', 'limited', 'delhi', 'jobs', 'local', 'construction', 'workers', 'staff', 'hotels', 'shopping', 'mall.This', 'year', 'widen', 'gap', 'rich', 'poor.Can', 'environmental', 'concerns', 'expert', 'save', 'project', 'affect', 'marine', 'life', 'livelihood.The', 'digging', 'sand', 'ocean', 'bed', 'leading', 'erosion', 'beaches', 'destruction', 'breeding', 'sites', 'marine', 'life', 'decline', 'fish', 'population.Spider', 'major', 'source', 'nutrition', 'country.The', 'third', 'concern.And', 'big', 'one', 'sovereignty.Sri', 'lanka', 'past', 'new', 'bed', 'recently', 'colombo', 'port', 'city', 'economic', 'commission', 'act.This', 'make', 'president', 'appointed', 'commission', 'sole', 'authority', 'project', 'power', 'grant', 'registration', 'licences', 'authorisations', 'approval', 'business', 'activities', 'colombo', 'port', 'city.This', 'commission', 'chinese', 'nationals', 'members.What', 'was.It', 'subject', 'laws', 'land.They', 'refuse', 'difference', 'function', 'democratic', 'manner', 'elected', 'representative', 'board.These', 'three', 'concerns', 'united', 'srilankan', 'walks', 'life', 'oppose', 'project.Recently', 'b', 'arch', 'bishop', 'colombo', 'categorically', 'told', 'government', 'development', 'telling', \"country's\", 'resources', 'please', 'offer', 'land', 'different', 'countries.Significantly', 'head', 'colombo', 'bi', 'rama', 'temple', 'happens', 'powerful', 'buddhist', 'monk', 'country', 'government', 'trying', 'make', 'port', 'city', 'chinese', 'colony.Can', 'chandrika', 'kumaratunga', 'former', 'president', 'sri', 'lanka', 'entire', 'country', 'become', 'chinese', 'colony.And', 'criticism', 'limited', 'word', 'petitions', 'filed', 'sri', 'lanka', 'stock', 'quote', 'accusing', 'government', 'telling', 'country', 'chinese', 'money.A', 'total', '20', 'individuals', 'organisations', 'recently', 'move', 'supreme', 'court', 'sri', 'lanka', 'saying', 'port', 'city', 'commission', 'infringes', 'judicial', 'functions', 'wireless', \"country's\", 'constitution.Odisha', 'domestic', 'concern.Now', \"let's\", 'tell', 'india', 'worried.This', 'area', 'activity', 'colombo', 'port', 'city', 'sensitive', 'regional', '70%', 'india', 'container', 'traffic.Passes', 'here.Chinese', 'ships', 'think', 'daily', 'affair', 'project', 'complete.And', 'major', 'security', 'threat.In', '2014', 'chinese', 'submarines', 'worship', 'allowed', 'dock', 'colombo', 'port', 'stayed', 'five', 'days', 'within', 'utter', 'disregard', 'indian', 'sensitivity.In', 'april', 'year', 'china', 'bound', 'vessel', 'containing', 'radioactive', 'material', 'doctor', 'hambantota', 'port', 'without', 'declaring', 'material', 'carried', 'hazardous.Given', 'track', 'record', 'one', 'imagine', 'sort', 'stunts', 'china', 'try', \"pull.What's\", 'colombo', 'port', 'cities', 'complete.Uc', 'threat', 'real.This', 'post', 'could', 'used', 'event', \"china's\", 'intelligence', 'counter', 'intelligence', 'operations', 'could', 'eavesdrop', 'indian', 'intelligence', 'communication', 'han', 'cyber', 'threats', 'satellite', 'tracking.And', 'ultimately', 'challenge', \"india's\", 'domination', 'region.It', 'could', 'also', 'used', 'infiltration.In', 'past', 'member', 'pakistan', 'used', 'high', 'commission', 'colombo', 'infiltrate', 'agents', 'terrorist', 'india', 'south.With', 'increase', 'chinese', 'presence', 'threat', 'india', 'strong.When', 'india', 'tighten', 'coastal', 'security', 'prevent', 'misadventure.Why', 'cheat', 'india', 'implications', 'chinese', 'presence', 'sri', 'lanka', 'global.As', \"china's\", 'happy', 'formation', 'core', 'quadrilateral', 'security', 'dialogue', 'framework', 'alliance', 'us', 'india', 'japan', 'australia', 'maintain', 'free', 'stable', 'indo-pacific.The', 'colombo', 'port', 'city', 'make', 'easier', 'china', 'counter', 'future', 'operations', 'code', 'easier', 'chinese', 'navy', 'track', 'worship', 'movement', 'control', 'shipping', 'routes', 'dictate', 'maritime', 'trade', 'routes', 'world.The', 'bottom', 'line', 'this.We', \"can't\", 'sit', 'cry', \"china's\", 'action.Sri', 'lanka', 'like', 'country', 'free', 'make', 'good', 'bad.What', 'india', 'needs', 'constantly', 'engaged', 'colombo.Strengthen', 'economic', 'partnership', 'create', 'opportunities', 'new', 'investments.Because', 'india', 'cannot', 'afford', 'another', 'neighbour.Dancing', 'chinese', 'tune.']\n"
     ]
    }
   ],
   "source": [
    "print(clean_tokens)"
   ]
  }
 ],
 "metadata": {
  "kernelspec": {
   "display_name": "Python 3",
   "language": "python",
   "name": "python3"
  },
  "language_info": {
   "codemirror_mode": {
    "name": "ipython",
    "version": 3
   },
   "file_extension": ".py",
   "mimetype": "text/x-python",
   "name": "python",
   "nbconvert_exporter": "python",
   "pygments_lexer": "ipython3",
   "version": "3.8.5"
  }
 },
 "nbformat": 4,
 "nbformat_minor": 4
}
