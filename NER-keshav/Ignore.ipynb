{
 "cells": [
  {
   "cell_type": "markdown",
   "metadata": {},
   "source": []
  },
  {
   "cell_type": "code",
   "execution_count": 4,
   "metadata": {},
   "outputs": [
    {
     "name": "stdout",
     "output_type": "stream",
     "text": [
      "Collecting gtts\n",
      "  Using cached gTTS-2.2.3-py3-none-any.whl (25 kB)\n",
      "Requirement already satisfied: requests in c:\\users\\balaji\\anaconda3\\lib\\site-packages (from gtts) (2.24.0)\n",
      "Requirement already satisfied: six in c:\\users\\balaji\\anaconda3\\lib\\site-packages (from gtts) (1.15.0)\n",
      "Requirement already satisfied: click in c:\\users\\balaji\\anaconda3\\lib\\site-packages (from gtts) (7.1.2)\n",
      "Requirement already satisfied: idna<3,>=2.5 in c:\\users\\balaji\\anaconda3\\lib\\site-packages (from requests->gtts) (2.10)\n",
      "Requirement already satisfied: chardet<4,>=3.0.2 in c:\\users\\balaji\\anaconda3\\lib\\site-packages (from requests->gtts) (3.0.4)\n",
      "Requirement already satisfied: urllib3!=1.25.0,!=1.25.1,<1.26,>=1.21.1 in c:\\users\\balaji\\anaconda3\\lib\\site-packages (from requests->gtts) (1.25.11)\n",
      "Requirement already satisfied: certifi>=2017.4.17 in c:\\users\\balaji\\anaconda3\\lib\\site-packages (from requests->gtts) (2020.6.20)\n",
      "Installing collected packages: gtts\n",
      "Successfully installed gtts-2.2.3\n"
     ]
    },
    {
     "name": "stderr",
     "output_type": "stream",
     "text": [
      "WARNING: You are using pip version 21.0.1; however, version 21.1.3 is available.\n",
      "You should consider upgrading via the 'c:\\users\\balaji\\anaconda3\\python.exe -m pip install --upgrade pip' command.\n"
     ]
    }
   ],
   "source": [
    "!pip install gtts\n"
   ]
  },
  {
   "cell_type": "code",
   "execution_count": 5,
   "metadata": {},
   "outputs": [],
   "source": [
    "from gtts import gTTS\n",
    "import os"
   ]
  },
  {
   "cell_type": "code",
   "execution_count": 7,
   "metadata": {},
   "outputs": [],
   "source": [
    "def text_to_audio(input_text,):\n",
    "    language='en'\n",
    "    converted = gTTS(text=input_text, lang=language,slow=False)\n",
    "    converted.save(\"Outputs/Text-to-Audio.mp3\")\n",
    "    print(\"file saved\")"
   ]
  },
  {
   "cell_type": "code",
   "execution_count": 8,
   "metadata": {},
   "outputs": [
    {
     "name": "stdout",
     "output_type": "stream",
     "text": [
      "file saved\n"
     ]
    }
   ],
   "source": [
    "text_to_audio(txtt)"
   ]
  },
  {
   "cell_type": "code",
   "execution_count": 26,
   "metadata": {},
   "outputs": [],
   "source": [
    "txtt=\"You shit porn fuck know channel building a gatewayto south asia new metropolis about the same size as central london a financial analyst in dubai with a business friendly atmosphere like singapore.Which city will be lined with chinese skyscrapers exotic hotels in theme park il have a population of about 80,000 people with thousands more commuting each day there a new job opportunities good money and a good lifestyle.I know it sounds like and typing plan but wait till you hear where this plan is being hacked.Sure.Right in the backyard of india just 290 km away from tamilnadu this is port city colombo.Do you know how is being built.Spider climbing table hectares of land from the sea.June off white pink belt.Give china strategic edge in the indian ocean.Aisa speak 10th sri lankan ship sponsored by china a working overtime to read stand from the bottom of the indian ocean and put it on a 600 acres trip to get the city going the question is student get going at roll.Hello and welcome to gravitas plus a sharma upadhyay china's building and other nest in sri lanka colombo port city of 1.4 billion dollar project overlooking the colombo port.The city is part of china belt and road initiative the same initiative which is plant several countries in to death.And that is one piece of the puzzle here.The concerns of many will get there in a bit first let's understand what this project really is the idea came from mahinda rajapaksa when he was the president of sri lanka.He was inspecting a landfill near columbus southport.An asset to have been inspired to build a well planned city based on the model of the world biggest financial hub.David 2004.For the next 10 years several proposals were made with the idea and never saw the light of day.Then in 2014 china enter the picture with its checkbox and construction might.2 state on chinese companies submitted an unsolicited proposal to fulfill m rajapaksa dream.Sri lanka accept the proposal why wanted.20 chinese firms were among fortune 500 companies it from it all in one packages reclaiming land from the sea constructing breakwater connecting road network the supply of services the work.But what we say it's them.What they stand to gain.Land lease.Allow me to explain.Chinese consortium invested 1.4 billion dollars to develop an area of 269 ha.Out of this 125 hectares of land was taken by the sri lankan government and 88 ha vi owned by the sri lankan government was given to china on a 99 year lease class a freehold on 20 hectares of land and other sounds a little complicated in simple word sri lanka sold its land and resources in return for development and money from china.The project was launched in september 2014 if the grand ceremony the dozens of school children and elephants chinese president xi jinping himself london colombo to green flag this project.The visit.But highly scrutinize.Questions were raised.Why has colombo granted a lease to china.Whom does it help.Sri lanka had already borrowed millions of dollars from china for construction of the hambantota port and the old will habit.Now it has granted china a land lease the concern of valid.What was sri lanka excuse at that time the former chairman of sri lankan port authority said in listen to this carefully we will receive a large financial benefit by granting this land extends on long-term lease that will enable us to receive a large financial benefit.Which will in turn.Enable ask to pay back all loan.Is a classic case of counting the chickens before they hatch.No body was convinced.Rajapaksa government spend the next president and prime minister ranil wickremesinghe briefly hold the project.But your financial and diplomatic obligation did not scrap.In 2019 the rajapaksa came back to power the promised to expedite the project.The sense of urgency ko the walls are the criticism mounted today sri lankan stem cells are opinions against project what is that you are their concerns.Madras table.First of all the social concern.High-end luxury with concession for foreigners and none of it for the local.They say the benefits they get will be short term in limited delhi jobs as only for local construction workers and staff at hotels in shopping mall.This year it will widen the gap between the rich and the poor.Can we have environmental concerns expert save this project will affect marine life and livelihood.The digging of sand from the ocean bed is leading to the erosion of beaches destruction of breeding sites for marine life and decline in fish population.Spider where is the major source of nutrition in this country.The third concern.And very big one is about sovereignty.Sri lanka past new bed recently the colombo port city economic commission act.This will make a president appointed commission the sole authority of this project with the power to grant registration licences authorisations for any such approval to any business activities in colombo port city.This commission will have chinese nationals members.What was.It will not be subject to the laws of the land.They refuse the difference function in a democratic manner with no elected representative on board.These three concerns have united srilankan from all walks of life to oppose this project.Recently b arch bishop of colombo categorically told the government that development is not telling the country's resources please do not offer our land to different countries.Significantly the head of colombo is a bi rama temple who happens to be the most powerful buddhist monk in the country that the government is trying to make the port city at chinese colony.Can we have chandrika kumaratunga the former president of sri lanka entire country has now become a chinese colony.And criticism is not limited to me a word petitions are being filed in sri lanka stock quote accusing the government of telling the country for chinese money.A total of 20 individuals and organisations recently move the supreme court of sri lanka saying the port city commission infringes on judicial functions and wireless the country's constitution.Odisha domestic concern.Now let's tell you why india should be worried.This will be the area of activity of the colombo port city is a sensitive regional 70% of india container traffic.Passes through here.Chinese ships but think there will be a daily affair once the project is complete.And this will be a major security threat.In 2014 chinese submarines and worship allowed to dock at the colombo port and they stayed there for five days within utter disregard for indian sensitivity.In april this year at china bound vessel containing radioactive material doctor at the hambantota port without declaring that the material is carried with hazardous.Given this track record one can only imagine what sort of stunts china will try to pull.What's the colombo port cities complete.Uc the threat is real.This post could be used to event china's intelligence and counter intelligence operations it could eavesdrop on indian intelligence and communication and han cyber threats and satellite tracking.And ultimately challenge india's domination of this region.It could also be used for infiltration.In the past member pakistan has used with high commission in colombo to infiltrate agents and terrorist into india from the south.With increase chinese presence the threat for india then will be to strong.When india will have to tighten it coastal security to prevent such misadventure.Why cheat india implications of the chinese presence in sri lanka a global.As it is china's not too happy with the formation of the core of the quadrilateral security dialogue framework and alliance between the us india japan and australia to maintain a free and stable indo-pacific.The colombo port city will make it easier for china to counter all future operations of the code will be easier for the chinese navy to track worship movement to control shipping routes to dictate maritime trade routes to the world.The bottom line is this.We can't just sit and cry was about china's action.Sri lanka like any other country is free to make it so it is good or bad.What india needs to do if you're constantly engaged with colombo.Strengthen its economic partnership and create opportunities for new investments.Because india cannot afford to have another neighbour.Dancing to chinese tune.\""
   ]
  },
  {
   "cell_type": "code",
   "execution_count": null,
   "metadata": {},
   "outputs": [],
   "source": []
  },
  {
   "cell_type": "markdown",
   "metadata": {},
   "source": []
  },
  {
   "cell_type": "code",
   "execution_count": null,
   "metadata": {
    "scrolled": true
   },
   "outputs": [],
   "source": []
  },
  {
   "cell_type": "code",
   "execution_count": 24,
   "metadata": {},
   "outputs": [],
   "source": [
    "from better_profanity import profanity\n"
   ]
  },
  {
   "cell_type": "code",
   "execution_count": 32,
   "metadata": {},
   "outputs": [],
   "source": [
    "txttt = profanity.censor(txtt,\" \")"
   ]
  },
  {
   "cell_type": "code",
   "execution_count": 33,
   "metadata": {},
   "outputs": [
    {
     "name": "stdout",
     "output_type": "stream",
     "text": [
      "You            know channel building a gatewayto south asia new metropolis about the same size as central london a financial analyst in dubai with a business friendly atmosphere like singapore.Which city will be lined with chinese skyscrapers exotic hotels in theme park il have a population of about 80,000 people with thousands more commuting each day there a new job opportunities good money and a good lifestyle.I know it sounds like and typing plan but wait till you hear where this plan is being hacked.Sure.Right in the backyard of india just 290 km away from tamilnadu this is port city colombo.Do you know how is being built.Spider climbing table hectares of land from the sea.June off white pink belt.Give china strategic edge in the indian ocean.Aisa speak 10th sri lankan ship sponsored by china a working overtime to read stand from the bottom of the indian ocean and put it on a 600 acres trip to get the city going the question is student get going at roll.Hello and welcome to gravitas plus a sharma upadhyay china's building and other nest in sri lanka colombo port city of 1.4 billion dollar project overlooking the colombo port.The city is part of china belt and road initiative the same initiative which is plant several countries in to death.And that is one piece of the puzzle here.The concerns of many will get there in a bit first let's understand what this project really is the idea came from mahinda rajapaksa when he was the president of sri lanka.He was inspecting a landfill near columbus southport.An asset to have been inspired to build a well planned city based on the model of the world biggest financial hub.David 2004.For the next 10 years several proposals were made with the idea and never saw the light of day.Then in 2014 china enter the picture with its checkbox and construction might.2 state on chinese companies submitted an unsolicited proposal to fulfill m rajapaksa dream.Sri lanka accept the proposal why wanted.20 chinese firms were among fortune 500 companies it from it all in one packages reclaiming land from the sea constructing breakwater connecting road network the supply of services the work.But what we say it's them.What they stand to gain.Land lease.Allow me to explain.Chinese consortium invested 1.4 billion dollars to develop an area of 269 ha.Out of this 125 hectares of land was taken by the sri lankan government and 88 ha vi owned by the sri lankan government was given to china on a 99 year lease class a freehold on 20 hectares of land and other sounds a little complicated in simple word sri lanka sold its land and resources in return for development and money from china.The project was launched in september 2014 if the grand ceremony the dozens of school children and elephants chinese president xi jinping himself london colombo to green flag this project.The visit.But highly scrutinize.Questions were raised.Why has colombo granted a lease to china.Whom does it help.Sri lanka had already borrowed millions of dollars from china for construction of the hambantota port and the old will habit.Now it has granted china a land lease the concern of valid.What was sri lanka excuse at that time the former chairman of sri lankan port authority said in listen to this carefully we will receive a large financial benefit by granting this land extends on long-term lease that will enable us to receive a large financial benefit.Which will in turn.Enable ask to pay back all loan.Is a classic case of counting the chickens before they hatch.No body was convinced.Rajapaksa government spend the next president and prime minister ranil wickremesinghe briefly hold the project.But your financial and diplomatic obligation did not scrap.In 2019 the rajapaksa came back to power the promised to expedite the project.The sense of urgency ko the walls are the criticism mounted today sri lankan stem cells are opinions against project what is that you are their concerns.Madras table.First of all the social concern.High-end luxury with concession for foreigners and none of it for the local.They say the benefits they get will be short term in limited delhi jobs as only for local construction workers and staff at hotels in shopping mall.This year it will widen the gap between the rich and the poor.Can we have environmental concerns expert save this project will affect marine life and livelihood.The digging of sand from the ocean bed is leading to the erosion of beaches destruction of breeding sites for marine life and decline in fish population.Spider where is the major source of nutrition in this country.The third concern.And very big one is about sovereignty.Sri lanka past new bed recently the colombo port city economic commission act.This will make a president appointed commission the sole authority of this project with the power to grant registration licences authorisations for any such approval to any business activities in colombo port city.This commission will have chinese nationals members.What was.It will not be subject to the laws of the land.They refuse the difference function in a democratic manner with no elected representative on board.These three concerns have united srilankan from all walks of life to oppose this project.Recently b arch bishop of colombo categorically told the government that development is not telling the country's resources please do not offer our land to different countries.Significantly the head of colombo is a bi rama temple who happens to be the most powerful buddhist monk in the country that the government is trying to make the port city at chinese colony.Can we have chandrika kumaratunga the former president of sri lanka entire country has now become a chinese colony.And criticism is not limited to me a word petitions are being filed in sri lanka stock quote accusing the government of telling the country for chinese money.A total of 20 individuals and organisations recently move the supreme court of sri lanka saying the port city commission infringes on judicial functions and wireless the country's constitution.Odisha domestic concern.Now let's tell you why india should be worried.This will be the area of activity of the colombo port city is a sensitive regional 70% of india container traffic.Passes through here.Chinese ships but think there will be a daily affair once the project is complete.And this will be a major security threat.In 2014 chinese submarines and worship allowed to dock at the colombo port and they stayed there for five days within utter disregard for indian sensitivity.In april this year at china bound vessel containing radioactive material doctor at the hambantota port without declaring that the material is carried with hazardous.Given this track record one can only imagine what sort of stunts china will try to pull.What's the colombo port cities complete.Uc the threat is real.This post could be used to event china's intelligence and counter intelligence operations it could eavesdrop on indian intelligence and communication and han cyber threats and satellite tracking.And ultimately challenge india's domination of this region.It could also be used for infiltration.In the past member pakistan has used with high commission in colombo to infiltrate agents and terrorist into india from the south.With increase chinese presence the threat for india then will be to strong.When india will have to tighten it coastal security to prevent such misadventure.Why cheat india implications of the chinese presence in sri lanka a global.As it is china's not too happy with the formation of the core of the quadrilateral security dialogue framework and alliance between the us india japan and australia to maintain a free and stable indo-pacific.The colombo port city will make it easier for china to counter all future operations of the code will be easier for the chinese navy to track worship movement to control shipping routes to dictate maritime trade routes to the world.The bottom line is this.We can't just sit and cry was about china's action.Sri lanka like any other country is free to make it so it is good or bad.What india needs to do if you're constantly engaged with colombo.Strengthen its economic partnership and create opportunities for new investments.Because india cannot afford to have another neighbour.Dancing to chinese tune.\n"
     ]
    }
   ],
   "source": [
    "print(txttt)"
   ]
  },
  {
   "cell_type": "code",
   "execution_count": 1,
   "metadata": {},
   "outputs": [],
   "source": [
    "string = u\"\"\"जन गण मन अधिनायक जय हे  \n",
    "भारत भाग्य विधाता  \n",
    "पंजाब सिन्ध गुजरात मराठा \n",
    "द्राविड़ उत्कल बंग  \n",
    "विन्ध्य हिमाचल यमुना गंगा  \n",
    "उच्छल जलधि तरंग  \n",
    "तव शुभ नामे जागे  \n",
    "तव शुभ आशिष मागे  \n",
    "गाहे तव जय गाथा  \n",
    "जन गण मंगल दायक जय हे  \n",
    "भारत भाग्य विधाता  \n",
    "जय हे जय हे जय हे  \n",
    "जय जय जय जय हे \"\"\" "
   ]
  },
  {
   "cell_type": "markdown",
   "metadata": {},
   "source": [
    "# SECOND PART"
   ]
  },
  {
   "cell_type": "code",
   "execution_count": 3,
   "metadata": {},
   "outputs": [
    {
     "name": "stderr",
     "output_type": "stream",
     "text": [
      "C:\\Users\\BALAJI\\anaconda3\\lib\\site-packages\\pydub\\utils.py:170: RuntimeWarning: Couldn't find ffmpeg or avconv - defaulting to ffmpeg, but may not work\n",
      "  warn(\"Couldn't find ffmpeg or avconv - defaulting to ffmpeg, but may not work\", RuntimeWarning)\n"
     ]
    }
   ],
   "source": [
    "import speech_recognition as sr\n",
    "from pydub import AudioSegment\n",
    "from pydub.silence import split_on_silence\n",
    "import os\n",
    "from tkinter.filedialog import *\n",
    "from moviepy.editor import *"
   ]
  },
  {
   "cell_type": "code",
   "execution_count": 4,
   "metadata": {},
   "outputs": [],
   "source": [
    "def get_large_audio_transcription_hin(path='videoplayback.wav',r=sr.Recognizer()):\n",
    "    sound=AudioSegment.from_wav(path)\n",
    "    chunks=split_on_silence(sound,min_silence_len=500,silence_thresh=sound.dBFS-14,keep_silence=500)\n",
    "    folder_name='audio_chunks2'\n",
    "    if not os.path.isdir(folder_name):\n",
    "        os.mkdir(folder_name)\n",
    "    global whole_text\n",
    "    whole_text=\"\"\n",
    "    print(\"processing...\")\n",
    "    for i,audio_chunk in enumerate(chunks,start=1):\n",
    "        chunk_filename=os.path.join(folder_name,f\"chunk{i}.wav\")\n",
    "        audio_chunk.export(chunk_filename,format=\"wav\")\n",
    "        with sr.AudioFile(chunk_filename) as source:\n",
    "            audio_listed=r.listen(source)\n",
    "            try:\n",
    "                text=r.recognize_google(audio_listed,language=\"hi-IN\")\n",
    "            except sr.UnknownValueError as e:\n",
    "                print('error:',str(e))\n",
    "            else:\n",
    "                text=f\"{text.capitalize()}. \"\n",
    "                #print(chunk_filename,\":\",text)\n",
    "                whole_text+=text\n",
    "    #wait1.config(text='Extracted Completed')\n",
    "\n",
    "    return whole_text"
   ]
  },
  {
   "cell_type": "code",
   "execution_count": 23,
   "metadata": {},
   "outputs": [
    {
     "name": "stdout",
     "output_type": "stream",
     "text": [
      "processing...\n"
     ]
    }
   ],
   "source": [
    " textdd = get_large_audio_transcription_hin()"
   ]
  },
  {
   "cell_type": "code",
   "execution_count": 24,
   "metadata": {},
   "outputs": [
    {
     "name": "stdout",
     "output_type": "stream",
     "text": [
      "और इस वक्त बेहद दुखद खबर आ रही है अभिनेता दिलीप कुमार का निधन हो गया है मुंबई के हिंदुजा अस्पताल में दिलीप कुमार ने अंतिम सांस ली है दिलीप कुमार का निधन हो गया है 98 साल की उम्र में दिलीप कुमार का निधन हुआ सुबह. 7:30. दिलीप कुमार का निधन हुआ है. मुझे बेहद दुखद खबर है. मोहम्मद यूसुफ खान. दिलीप कुमार का 98 साल की उम्र में निधन हो गया है दिलीप कुमार पिछले काफी वक्त से हमने देखा है कि बहुत बार लोगों ने हिंदुजा अस्पताल में भर्ती भी कराया गया सांस लेने में तकलीफ होने लगातार हो रही थी लेकिन फिलहाल. यह खबर आई है कि उनका निधन हो गया है यह बेहद अपने आप में कह सकते हैं कि एक युग का अंत है दिलीप कुमार. जो कि बॉलीवुड का ट्रेजडी किंग बॉलीवुड का पहला सुपरस्टार के बॉलीवुड के हमें कह सकते हैं कि सबसे बड़े सुपरस्टार दिया मैंने कह सकते हैं दिलीप कुमार रहे हैं. और दिलीप कुमार के साथ हमेशा सारा बानो साथ खड़ी रही है जब भी वह हिंदुजा अस्पताल जाते रहे जबकि वह दूसरे अस्पताल जाकर कोकिलाबेन अस्पताल भी गए लेकिन हिंदुजा अस्पताल जो कि कोविड-19 पताल था जिसको सांस लेने में तकलीफ हुई थी उसके बाद उनको वहां से छुट्टी मिल गई थी लेकिन दोबारा हिंदुजा अस्पताल में भर्ती कराया गया था. बेहद दुखद खबर आ रही है दिलीप कुमार का निधन हो गया है आज सुबह. 7:30 बजे दिलीप कुमार ने अंतिम सांस ली है. दिलीप कुमार जैन का असली नाम. युसूफ खान था 11 दिसंबर 1922 को उनका जन्म हुआ था. उस वक्त. हिंदुस्तान एक हुआ करता था पाकिस्तान में पेशाब की वक्त वहां पर उनका जन्म हुआ था. और. बहुत सी फिल्मों में उन्होंने एक्टिंग की. पहले सुपरस्टार एचडी किंग का. पंगा उनको मिला. ज्वार भाटा से उन्होंने अपने करियर की शुरुआत की 344 से. बॉम्बे टॉकीज ने इस फिल्म को प्रोड्यूस किया था उसके बाद अंदाज अंदाज देवदास. देवदास के दिलीप कुमार को कौन भूल सकता है आजाद mughal-e-azam यानी कि 1 तरीके से कह सकते हैं कि युग का अंत हो गया है लेकिन वह युग जो कि पीछे हमेशा से छोड़ कर के गए हैं हमेशा जो याद किया जाता है दिलीप कुमार अमर थे अमर है अमर रहेंगे लेकिन दिलीप कुमार इस बीच दुखद खबर है कि हमारे बीच नहीं रहे हैं 98 साल की उम्र में. दिलीप कुमार के निधन की खबर आ रही है. रवि कुमार जो कि अभी हाल ही में लगातार लगभग 1990 के दशक में देखा क्रांति हो सकती हो. दिलीप कुमार एक लंबे वक्त तक शर्मा के साथ जुड़े रहे. पहले सुपर स्टार का दर्जा हमीने दे सकते हैं कि बॉलीवुड के पहले सुपरस्टार थे स्पीकिंग. स्पीच. दिलीप साहब. हमारे बीच युसूफ साहब हमारे बीच नहीं रहे हैं. प्ले शाहरुख खान हो सलमान खान हो या फिर दसवीं के तमाम ना बड़े अभिनेताओं नसरुद्दीन शाह. हर आदमी जो है दिलीप साहब के आगे नतमस्तक हमेशा से रहा है जिस तरीके का उनका उदास जिस तरीके गंगा और आ रहा है. और अगले उनका जन्मदिन रहा हो जब उनके घर पर आ कभी जन्मदिन ना बनाने की कुछ तस्वीरें सामने आती रही हो या फिर कुछ और रहा हो हमेशा दिलीप साहब के लिए पूरा बॉलीवुड एक साथ खड़ा है पूरा बॉलीवुड को सलाम करता है आज की शोक की लहर बॉलीवुड के लिए. 98 साल की उम्र में दिलीप साहब का निधन हुआ है. हिंदुजा अस्पताल में उन को भर्ती कराया गया तो इससे पहले भी सांस लेने में तकलीफ के चलते उनको हिंदुजा अस्पताल में भर्ती कराया गया था. लेकिन इस बीच उनकी छुट्टी हो गई थी बात डिस्चार्ज ने कर दिया गया था ठीक हो गए थे. ऑल. इससे पहले भी दो बार इस तरह की खबर आई तो बर्बाद होने. रागिनी स्कूटी के दिलीप साहब की फेक. जो है मृत्यु की खबर जो है वह गलत है इस तरह की खबरों को खत्म किया जाए वह बिल्कुल ठीक है साथ ले रहे हैं ठीक-ठाक हैं. लेकिन इसमें यह एक बेहद दुखद खबर आई है कि 98 साल की उम्र में दिलीप साहब नहीं रहे हैं. आज 7:30 बजे. दिलीप साहब का निधन हो गया दिलीप साहब ने अंतिम सांस ली है. यह तस्वीर देख रही है कुछ दिन पहले की तस्वीर है जिस वक्त. उन्हें हिंदुजा अस्पताल में भर्ती कराया गया था सांस लेने में तकलीफ की वजह से. फिर उसके बाद उन्हें वहां से छुट्टी मिल गई थी डिस्चार्ज हो गए थे. लेकिन ना. लगातार. डॉक्टर कीर्ति मन को मॉनिटर कर रही थी. इसमें चाबी कुछ ही देर पहले खबर आई कि दिलीप साहब का. निधन हो गया है. इंडस्ट्री के सुपरस्टार इंडस्ट्री के नजदीक इन अमेरिका सकता है मेंटेरी क्यों ना करें. जिस तरीके का का दलित साफ करा है इंडस्ट्री के 1 सबसे बड़े मेंटर के तौर पर हम यह देख सकते हैं कि इंडस्ट्री का पहला सुपरस्टार इंडस्ट्री के इतना बड़ा कद जिसके आगे पूरी इंडस्ट्री जो है वो हमेशा नतमस्तक रही हमेशा जगह सलाम करती रही कि दिलीप साहब का जोरदार दिलीप साहब का जो कथा. वह हर किसी ने माना उबले हिंदुस्तान और पाकिस्तान को पूरी दुनिया को पूरा. 1922 में जन्मे थे. और आज उन्होंने अंतिम सांस ली है 7:30. गूगल प्ले एप्स डाउनलोडिंग. \n"
     ]
    }
   ],
   "source": [
    "print(textdd)"
   ]
  },
  {
   "cell_type": "code",
   "execution_count": 28,
   "metadata": {},
   "outputs": [],
   "source": [
    "f2 = open(r\"Outputs/Hindi-Video-Textual-Data2.txt\",'w+',encoding=\"utf-8\")\n",
    "in_file2 = textdd\n",
    "f2.write(in_file2)\n",
    "f2.close()"
   ]
  },
  {
   "cell_type": "code",
   "execution_count": 1,
   "metadata": {},
   "outputs": [],
   "source": [
    "#Import tkinter library\n",
    "from tkinter import *\n",
    "#Create an instance of Tkinter frame or window\n",
    "win= Tk()\n",
    "#Set the geometry of tkinter frame\n",
    "win.geometry(\"750x250\")\n",
    "def callback():\n",
    "   Label(win, text=\"Hello World!\", font=('Century 20 bold')).pack(pady=4)\n",
    "#Create a Label and a Button widget\n",
    "btn=Button(win, text=\"Press Enter\", command= callback)\n",
    "btn.pack(ipadx=10)\n",
    "win.bind('<Return>',lambda event:callback())\n",
    "win.mainloop()"
   ]
  },
  {
   "cell_type": "code",
   "execution_count": null,
   "metadata": {},
   "outputs": [],
   "source": []
  }
 ],
 "metadata": {
  "kernelspec": {
   "display_name": "Python 3",
   "language": "python",
   "name": "python3"
  },
  "language_info": {
   "codemirror_mode": {
    "name": "ipython",
    "version": 3
   },
   "file_extension": ".py",
   "mimetype": "text/x-python",
   "name": "python",
   "nbconvert_exporter": "python",
   "pygments_lexer": "ipython3",
   "version": "3.8.5"
  }
 },
 "nbformat": 4,
 "nbformat_minor": 4
}
