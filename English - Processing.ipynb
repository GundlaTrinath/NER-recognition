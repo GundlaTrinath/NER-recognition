{
 "cells": [
  {
   "cell_type": "code",
   "execution_count": 28,
   "metadata": {
    "scrolled": true
   },
   "outputs": [
    {
     "name": "stdout",
     "output_type": "stream",
     "text": [
      "Requirement already satisfied: spacy-transformers in c:\\users\\balaji\\anaconda3\\lib\\site-packages (1.0.3)\n",
      "Requirement already satisfied: torch>=1.5.0 in c:\\users\\balaji\\anaconda3\\lib\\site-packages (from spacy-transformers) (1.8.1+cu102)\n",
      "Requirement already satisfied: spacy-alignments<1.0.0,>=0.7.2 in c:\\users\\balaji\\anaconda3\\lib\\site-packages (from spacy-transformers) (0.8.3)\n",
      "Requirement already satisfied: transformers<4.7.0,>=3.4.0 in c:\\users\\balaji\\anaconda3\\lib\\site-packages (from spacy-transformers) (4.6.1)\n",
      "Requirement already satisfied: spacy<4.0.0,>=3.0.0 in c:\\users\\balaji\\anaconda3\\lib\\site-packages (from spacy-transformers) (3.0.6)\n",
      "Requirement already satisfied: srsly<3.0.0,>=2.4.0 in c:\\users\\balaji\\anaconda3\\lib\\site-packages (from spacy-transformers) (2.4.1)\n",
      "Requirement already satisfied: thinc<8.1.0,>=8.0.3 in c:\\users\\balaji\\anaconda3\\lib\\site-packages (from spacy<4.0.0,>=3.0.0->spacy-transformers) (8.0.3)\n",
      "Requirement already satisfied: tqdm<5.0.0,>=4.38.0 in c:\\users\\balaji\\anaconda3\\lib\\site-packages (from spacy<4.0.0,>=3.0.0->spacy-transformers) (4.50.2)\n",
      "Requirement already satisfied: spacy-legacy<3.1.0,>=3.0.4 in c:\\users\\balaji\\anaconda3\\lib\\site-packages (from spacy<4.0.0,>=3.0.0->spacy-transformers) (3.0.5)\n",
      "Requirement already satisfied: requests<3.0.0,>=2.13.0 in c:\\users\\balaji\\anaconda3\\lib\\site-packages (from spacy<4.0.0,>=3.0.0->spacy-transformers) (2.24.0)\n",
      "Requirement already satisfied: wasabi<1.1.0,>=0.8.1 in c:\\users\\balaji\\anaconda3\\lib\\site-packages (from spacy<4.0.0,>=3.0.0->spacy-transformers) (0.8.2)\n",
      "Requirement already satisfied: pydantic<1.8.0,>=1.7.1 in c:\\users\\balaji\\anaconda3\\lib\\site-packages (from spacy<4.0.0,>=3.0.0->spacy-transformers) (1.7.4)\n",
      "Requirement already satisfied: jinja2 in c:\\users\\balaji\\anaconda3\\lib\\site-packages (from spacy<4.0.0,>=3.0.0->spacy-transformers) (2.11.2)\n",
      "Requirement already satisfied: catalogue<2.1.0,>=2.0.3 in c:\\users\\balaji\\anaconda3\\lib\\site-packages (from spacy<4.0.0,>=3.0.0->spacy-transformers) (2.0.4)\n",
      "Requirement already satisfied: murmurhash<1.1.0,>=0.28.0 in c:\\users\\balaji\\anaconda3\\lib\\site-packages (from spacy<4.0.0,>=3.0.0->spacy-transformers) (1.0.5)\n",
      "Requirement already satisfied: packaging>=20.0 in c:\\users\\balaji\\anaconda3\\lib\\site-packages (from spacy<4.0.0,>=3.0.0->spacy-transformers) (20.4)\n",
      "Requirement already satisfied: setuptools in c:\\users\\balaji\\anaconda3\\lib\\site-packages (from spacy<4.0.0,>=3.0.0->spacy-transformers) (50.3.1.post20201107)\n",
      "Requirement already satisfied: pathy>=0.3.5 in c:\\users\\balaji\\anaconda3\\lib\\site-packages (from spacy<4.0.0,>=3.0.0->spacy-transformers) (0.5.2)\n",
      "Requirement already satisfied: cymem<2.1.0,>=2.0.2 in c:\\users\\balaji\\anaconda3\\lib\\site-packages (from spacy<4.0.0,>=3.0.0->spacy-transformers) (2.0.5)\n",
      "Requirement already satisfied: numpy>=1.15.0 in c:\\users\\balaji\\anaconda3\\lib\\site-packages (from spacy<4.0.0,>=3.0.0->spacy-transformers) (1.18.2)\n",
      "Requirement already satisfied: blis<0.8.0,>=0.4.0 in c:\\users\\balaji\\anaconda3\\lib\\site-packages (from spacy<4.0.0,>=3.0.0->spacy-transformers) (0.7.4)\n",
      "Requirement already satisfied: preshed<3.1.0,>=3.0.2 in c:\\users\\balaji\\anaconda3\\lib\\site-packages (from spacy<4.0.0,>=3.0.0->spacy-transformers) (3.0.5)\n",
      "Requirement already satisfied: typer<0.4.0,>=0.3.0 in c:\\users\\balaji\\anaconda3\\lib\\site-packages (from spacy<4.0.0,>=3.0.0->spacy-transformers) (0.3.2)\n",
      "Requirement already satisfied: pyparsing>=2.0.2 in c:\\users\\balaji\\anaconda3\\lib\\site-packages (from packaging>=20.0->spacy<4.0.0,>=3.0.0->spacy-transformers) (2.4.7)\n",
      "Requirement already satisfied: six in c:\\users\\balaji\\anaconda3\\lib\\site-packages (from packaging>=20.0->spacy<4.0.0,>=3.0.0->spacy-transformers) (1.15.0)\n",
      "Requirement already satisfied: smart-open<4.0.0,>=2.2.0 in c:\\users\\balaji\\anaconda3\\lib\\site-packages (from pathy>=0.3.5->spacy<4.0.0,>=3.0.0->spacy-transformers) (3.0.0)\n",
      "Requirement already satisfied: certifi>=2017.4.17 in c:\\users\\balaji\\anaconda3\\lib\\site-packages (from requests<3.0.0,>=2.13.0->spacy<4.0.0,>=3.0.0->spacy-transformers) (2020.6.20)\n",
      "Requirement already satisfied: chardet<4,>=3.0.2 in c:\\users\\balaji\\anaconda3\\lib\\site-packages (from requests<3.0.0,>=2.13.0->spacy<4.0.0,>=3.0.0->spacy-transformers) (3.0.4)\n",
      "Requirement already satisfied: idna<3,>=2.5 in c:\\users\\balaji\\anaconda3\\lib\\site-packages (from requests<3.0.0,>=2.13.0->spacy<4.0.0,>=3.0.0->spacy-transformers) (2.10)\n",
      "Requirement already satisfied: urllib3!=1.25.0,!=1.25.1,<1.26,>=1.21.1 in c:\\users\\balaji\\anaconda3\\lib\\site-packages (from requests<3.0.0,>=2.13.0->spacy<4.0.0,>=3.0.0->spacy-transformers) (1.25.11)\n",
      "Requirement already satisfied: typing-extensions in c:\\users\\balaji\\anaconda3\\lib\\site-packages (from torch>=1.5.0->spacy-transformers) (3.7.4.3)\n",
      "Requirement already satisfied: huggingface-hub==0.0.8 in c:\\users\\balaji\\anaconda3\\lib\\site-packages (from transformers<4.7.0,>=3.4.0->spacy-transformers) (0.0.8)\n",
      "Requirement already satisfied: filelock in c:\\users\\balaji\\anaconda3\\lib\\site-packages (from transformers<4.7.0,>=3.4.0->spacy-transformers) (3.0.12)\n",
      "Requirement already satisfied: tokenizers<0.11,>=0.10.1 in c:\\users\\balaji\\anaconda3\\lib\\site-packages (from transformers<4.7.0,>=3.4.0->spacy-transformers) (0.10.3)\n",
      "Requirement already satisfied: sacremoses in c:\\users\\balaji\\anaconda3\\lib\\site-packages (from transformers<4.7.0,>=3.4.0->spacy-transformers) (0.0.45)\n",
      "Requirement already satisfied: regex!=2019.12.17 in c:\\users\\balaji\\anaconda3\\lib\\site-packages (from transformers<4.7.0,>=3.4.0->spacy-transformers) (2020.10.15)\n",
      "Requirement already satisfied: click<7.2.0,>=7.1.1 in c:\\users\\balaji\\anaconda3\\lib\\site-packages (from typer<0.4.0,>=0.3.0->spacy<4.0.0,>=3.0.0->spacy-transformers) (7.1.2)\n",
      "Requirement already satisfied: MarkupSafe>=0.23 in c:\\users\\balaji\\anaconda3\\lib\\site-packages (from jinja2->spacy<4.0.0,>=3.0.0->spacy-transformers) (1.1.1)\n",
      "Requirement already satisfied: joblib in c:\\users\\balaji\\anaconda3\\lib\\site-packages (from sacremoses->transformers<4.7.0,>=3.4.0->spacy-transformers) (0.17.0)\n"
     ]
    },
    {
     "name": "stderr",
     "output_type": "stream",
     "text": [
      "WARNING: You are using pip version 21.0.1; however, version 21.1.3 is available.\n",
      "You should consider upgrading via the 'c:\\users\\balaji\\anaconda3\\python.exe -m pip install --upgrade pip' command.\n"
     ]
    }
   ],
   "source": [
    "!pip install spacy-transformers"
   ]
  },
  {
   "cell_type": "code",
   "execution_count": 29,
   "metadata": {},
   "outputs": [
    {
     "name": "stdout",
     "output_type": "stream",
     "text": [
      "Collecting en-core-web-trf==3.0.0\n",
      "  Downloading https://github.com/explosion/spacy-models/releases/download/en_core_web_trf-3.0.0/en_core_web_trf-3.0.0-py3-none-any.whl (459.7 MB)\n",
      "Requirement already satisfied: spacy<3.1.0,>=3.0.0 in c:\\users\\balaji\\anaconda3\\lib\\site-packages (from en-core-web-trf==3.0.0) (3.0.6)\n",
      "Requirement already satisfied: spacy-transformers<1.1.0,>=1.0.0rc4 in c:\\users\\balaji\\anaconda3\\lib\\site-packages (from en-core-web-trf==3.0.0) (1.0.3)\n",
      "Requirement already satisfied: wasabi<1.1.0,>=0.8.1 in c:\\users\\balaji\\anaconda3\\lib\\site-packages (from spacy<3.1.0,>=3.0.0->en-core-web-trf==3.0.0) (0.8.2)\n",
      "Requirement already satisfied: typer<0.4.0,>=0.3.0 in c:\\users\\balaji\\anaconda3\\lib\\site-packages (from spacy<3.1.0,>=3.0.0->en-core-web-trf==3.0.0) (0.3.2)\n",
      "Requirement already satisfied: thinc<8.1.0,>=8.0.3 in c:\\users\\balaji\\anaconda3\\lib\\site-packages (from spacy<3.1.0,>=3.0.0->en-core-web-trf==3.0.0) (8.0.3)\n",
      "Requirement already satisfied: numpy>=1.15.0 in c:\\users\\balaji\\anaconda3\\lib\\site-packages (from spacy<3.1.0,>=3.0.0->en-core-web-trf==3.0.0) (1.18.2)\n",
      "Requirement already satisfied: pydantic<1.8.0,>=1.7.1 in c:\\users\\balaji\\anaconda3\\lib\\site-packages (from spacy<3.1.0,>=3.0.0->en-core-web-trf==3.0.0) (1.7.4)\n",
      "Requirement already satisfied: catalogue<2.1.0,>=2.0.3 in c:\\users\\balaji\\anaconda3\\lib\\site-packages (from spacy<3.1.0,>=3.0.0->en-core-web-trf==3.0.0) (2.0.4)\n",
      "Requirement already satisfied: murmurhash<1.1.0,>=0.28.0 in c:\\users\\balaji\\anaconda3\\lib\\site-packages (from spacy<3.1.0,>=3.0.0->en-core-web-trf==3.0.0) (1.0.5)\n",
      "Requirement already satisfied: requests<3.0.0,>=2.13.0 in c:\\users\\balaji\\anaconda3\\lib\\site-packages (from spacy<3.1.0,>=3.0.0->en-core-web-trf==3.0.0) (2.24.0)\n",
      "Requirement already satisfied: setuptools in c:\\users\\balaji\\anaconda3\\lib\\site-packages (from spacy<3.1.0,>=3.0.0->en-core-web-trf==3.0.0) (50.3.1.post20201107)\n",
      "Requirement already satisfied: spacy-legacy<3.1.0,>=3.0.4 in c:\\users\\balaji\\anaconda3\\lib\\site-packages (from spacy<3.1.0,>=3.0.0->en-core-web-trf==3.0.0) (3.0.5)\n",
      "Requirement already satisfied: jinja2 in c:\\users\\balaji\\anaconda3\\lib\\site-packages (from spacy<3.1.0,>=3.0.0->en-core-web-trf==3.0.0) (2.11.2)\n",
      "Requirement already satisfied: packaging>=20.0 in c:\\users\\balaji\\anaconda3\\lib\\site-packages (from spacy<3.1.0,>=3.0.0->en-core-web-trf==3.0.0) (20.4)\n",
      "Requirement already satisfied: tqdm<5.0.0,>=4.38.0 in c:\\users\\balaji\\anaconda3\\lib\\site-packages (from spacy<3.1.0,>=3.0.0->en-core-web-trf==3.0.0) (4.50.2)\n",
      "Requirement already satisfied: preshed<3.1.0,>=3.0.2 in c:\\users\\balaji\\anaconda3\\lib\\site-packages (from spacy<3.1.0,>=3.0.0->en-core-web-trf==3.0.0) (3.0.5)\n",
      "Requirement already satisfied: srsly<3.0.0,>=2.4.1 in c:\\users\\balaji\\anaconda3\\lib\\site-packages (from spacy<3.1.0,>=3.0.0->en-core-web-trf==3.0.0) (2.4.1)\n",
      "Requirement already satisfied: blis<0.8.0,>=0.4.0 in c:\\users\\balaji\\anaconda3\\lib\\site-packages (from spacy<3.1.0,>=3.0.0->en-core-web-trf==3.0.0) (0.7.4)\n",
      "Requirement already satisfied: cymem<2.1.0,>=2.0.2 in c:\\users\\balaji\\anaconda3\\lib\\site-packages (from spacy<3.1.0,>=3.0.0->en-core-web-trf==3.0.0) (2.0.5)\n",
      "Requirement already satisfied: pathy>=0.3.5 in c:\\users\\balaji\\anaconda3\\lib\\site-packages (from spacy<3.1.0,>=3.0.0->en-core-web-trf==3.0.0) (0.5.2)\n",
      "Requirement already satisfied: pyparsing>=2.0.2 in c:\\users\\balaji\\anaconda3\\lib\\site-packages (from packaging>=20.0->spacy<3.1.0,>=3.0.0->en-core-web-trf==3.0.0) (2.4.7)\n",
      "Requirement already satisfied: six in c:\\users\\balaji\\anaconda3\\lib\\site-packages (from packaging>=20.0->spacy<3.1.0,>=3.0.0->en-core-web-trf==3.0.0) (1.15.0)\n",
      "Requirement already satisfied: smart-open<4.0.0,>=2.2.0 in c:\\users\\balaji\\anaconda3\\lib\\site-packages (from pathy>=0.3.5->spacy<3.1.0,>=3.0.0->en-core-web-trf==3.0.0) (3.0.0)\n",
      "Requirement already satisfied: chardet<4,>=3.0.2 in c:\\users\\balaji\\anaconda3\\lib\\site-packages (from requests<3.0.0,>=2.13.0->spacy<3.1.0,>=3.0.0->en-core-web-trf==3.0.0) (3.0.4)\n",
      "Requirement already satisfied: idna<3,>=2.5 in c:\\users\\balaji\\anaconda3\\lib\\site-packages (from requests<3.0.0,>=2.13.0->spacy<3.1.0,>=3.0.0->en-core-web-trf==3.0.0) (2.10)\n",
      "Requirement already satisfied: urllib3!=1.25.0,!=1.25.1,<1.26,>=1.21.1 in c:\\users\\balaji\\anaconda3\\lib\\site-packages (from requests<3.0.0,>=2.13.0->spacy<3.1.0,>=3.0.0->en-core-web-trf==3.0.0) (1.25.11)\n",
      "Requirement already satisfied: certifi>=2017.4.17 in c:\\users\\balaji\\anaconda3\\lib\\site-packages (from requests<3.0.0,>=2.13.0->spacy<3.1.0,>=3.0.0->en-core-web-trf==3.0.0) (2020.6.20)\n",
      "Requirement already satisfied: transformers<4.7.0,>=3.4.0 in c:\\users\\balaji\\anaconda3\\lib\\site-packages (from spacy-transformers<1.1.0,>=1.0.0rc4->en-core-web-trf==3.0.0) (4.6.1)\n",
      "Requirement already satisfied: spacy-alignments<1.0.0,>=0.7.2 in c:\\users\\balaji\\anaconda3\\lib\\site-packages (from spacy-transformers<1.1.0,>=1.0.0rc4->en-core-web-trf==3.0.0) (0.8.3)\n",
      "Requirement already satisfied: torch>=1.5.0 in c:\\users\\balaji\\anaconda3\\lib\\site-packages (from spacy-transformers<1.1.0,>=1.0.0rc4->en-core-web-trf==3.0.0) (1.8.1+cu102)\n",
      "Requirement already satisfied: typing-extensions in c:\\users\\balaji\\anaconda3\\lib\\site-packages (from torch>=1.5.0->spacy-transformers<1.1.0,>=1.0.0rc4->en-core-web-trf==3.0.0) (3.7.4.3)\n",
      "Requirement already satisfied: sacremoses in c:\\users\\balaji\\anaconda3\\lib\\site-packages (from transformers<4.7.0,>=3.4.0->spacy-transformers<1.1.0,>=1.0.0rc4->en-core-web-trf==3.0.0) (0.0.45)"
     ]
    },
    {
     "name": "stderr",
     "output_type": "stream",
     "text": [
      "2021-07-24 17:09:01.316459: W tensorflow/stream_executor/platform/default/dso_loader.cc:59] Could not load dynamic library 'cudart64_101.dll'; dlerror: cudart64_101.dll not found\n",
      "2021-07-24 17:09:01.316545: I tensorflow/stream_executor/cuda/cudart_stub.cc:29] Ignore above cudart dlerror if you do not have a GPU set up on your machine.\n",
      "WARNING: You are using pip version 21.0.1; however, version 21.1.3 is available.\n",
      "You should consider upgrading via the 'C:\\Users\\BALAJI\\anaconda3\\python.exe -m pip install --upgrade pip' command.\n"
     ]
    },
    {
     "name": "stdout",
     "output_type": "stream",
     "text": [
      "\n",
      "Requirement already satisfied: filelock in c:\\users\\balaji\\anaconda3\\lib\\site-packages (from transformers<4.7.0,>=3.4.0->spacy-transformers<1.1.0,>=1.0.0rc4->en-core-web-trf==3.0.0) (3.0.12)\n",
      "Requirement already satisfied: huggingface-hub==0.0.8 in c:\\users\\balaji\\anaconda3\\lib\\site-packages (from transformers<4.7.0,>=3.4.0->spacy-transformers<1.1.0,>=1.0.0rc4->en-core-web-trf==3.0.0) (0.0.8)\n",
      "Requirement already satisfied: tokenizers<0.11,>=0.10.1 in c:\\users\\balaji\\anaconda3\\lib\\site-packages (from transformers<4.7.0,>=3.4.0->spacy-transformers<1.1.0,>=1.0.0rc4->en-core-web-trf==3.0.0) (0.10.3)\n",
      "Requirement already satisfied: regex!=2019.12.17 in c:\\users\\balaji\\anaconda3\\lib\\site-packages (from transformers<4.7.0,>=3.4.0->spacy-transformers<1.1.0,>=1.0.0rc4->en-core-web-trf==3.0.0) (2020.10.15)\n",
      "Requirement already satisfied: click<7.2.0,>=7.1.1 in c:\\users\\balaji\\anaconda3\\lib\\site-packages (from typer<0.4.0,>=0.3.0->spacy<3.1.0,>=3.0.0->en-core-web-trf==3.0.0) (7.1.2)\n",
      "Requirement already satisfied: MarkupSafe>=0.23 in c:\\users\\balaji\\anaconda3\\lib\\site-packages (from jinja2->spacy<3.1.0,>=3.0.0->en-core-web-trf==3.0.0) (1.1.1)\n",
      "Requirement already satisfied: joblib in c:\\users\\balaji\\anaconda3\\lib\\site-packages (from sacremoses->transformers<4.7.0,>=3.4.0->spacy-transformers<1.1.0,>=1.0.0rc4->en-core-web-trf==3.0.0) (0.17.0)\n",
      "[+] Download and installation successful\n",
      "You can now load the package via spacy.load('en_core_web_trf')\n"
     ]
    }
   ],
   "source": [
    "!python -m spacy download en_core_web_trf"
   ]
  },
  {
   "cell_type": "code",
   "execution_count": 3,
   "metadata": {},
   "outputs": [],
   "source": [
    "#Audio video text processing dependencies\n",
    "import moviepy.editor\n",
    "import tkinter.filedialog\n",
    "from pydub import AudioSegment\n",
    "import os\n",
    "import speech_recognition as sp\n",
    "import spacy\n",
    "import spacy.displacy as displacy \n",
    "from better_profanity import profanity"
   ]
  },
  {
   "cell_type": "code",
   "execution_count": 4,
   "metadata": {},
   "outputs": [],
   "source": [
    "from pydub.silence import split_on_silence\n",
    "import os"
   ]
  },
  {
   "cell_type": "code",
   "execution_count": 5,
   "metadata": {},
   "outputs": [],
   "source": [
    "import nltk"
   ]
  },
  {
   "cell_type": "code",
   "execution_count": null,
   "metadata": {},
   "outputs": [],
   "source": [
    "from gtts import gTTS"
   ]
  },
  {
   "cell_type": "code",
   "execution_count": 23,
   "metadata": {},
   "outputs": [
    {
     "name": "stderr",
     "output_type": "stream",
     "text": [
      "[nltk_data] Downloading package stopwords to\n",
      "[nltk_data]     C:\\Users\\BALAJI\\AppData\\Roaming\\nltk_data...\n",
      "[nltk_data]   Package stopwords is already up-to-date!\n"
     ]
    },
    {
     "data": {
      "text/plain": [
       "True"
      ]
     },
     "execution_count": 23,
     "metadata": {},
     "output_type": "execute_result"
    }
   ],
   "source": [
    "nltk.download('stopwords')"
   ]
  },
  {
   "cell_type": "code",
   "execution_count": 24,
   "metadata": {},
   "outputs": [],
   "source": [
    "from nltk.corpus import stopwords"
   ]
  },
  {
   "cell_type": "code",
   "execution_count": 7,
   "metadata": {},
   "outputs": [],
   "source": [
    "speech = sp.Recognizer()"
   ]
  },
  {
   "cell_type": "code",
   "execution_count": 8,
   "metadata": {},
   "outputs": [],
   "source": [
    "# NER Dependencies\n",
    "import pandas as pd\n",
    "from spacy import displacy\n",
    "import spacy"
   ]
  },
  {
   "cell_type": "markdown",
   "metadata": {},
   "source": [
    "# V2A"
   ]
  },
  {
   "cell_type": "code",
   "execution_count": 9,
   "metadata": {},
   "outputs": [],
   "source": [
    "def video_to_audio(video_path):\n",
    "    videoSrc = video_path\n",
    "    audio_store = 'Outputs/Extracted_audio_english.wav'\n",
    "    video = moviepy.editor.VideoFileClip(videoSrc)\n",
    "    audio = video.audio\n",
    "    audio.write_audiofile(audio_store)\n",
    "    print(\"Audio file extracted at :{}\".format(audio_store))"
   ]
  },
  {
   "cell_type": "markdown",
   "metadata": {},
   "source": [
    "# Audio splitting"
   ]
  },
  {
   "cell_type": "code",
   "execution_count": 10,
   "metadata": {},
   "outputs": [],
   "source": [
    "def get_large_audio_chunks_eng(audio_file_name):\n",
    "    audio = AudioSegment.from_wav(audio_file_name)\n",
    "    # audio chunks gets splitted when pause is more than 700 milliseconds\n",
    "    chunks= split_on_silence(audio,\n",
    "                             min_silence_len=500,\n",
    "                             silence_thresh = audio.dBFS-14,\n",
    "                             keep_silence=500) \n",
    "    dest_folder = \"audio-chunks\"\n",
    "    if not os.path.isdir(dest_folder):\n",
    "        os.mkdir(dest_folder)\n",
    "    whole_text = \"\"\n",
    "    for i,audio_chunk in enumerate(chunks, start=1):\n",
    "        chunk_filename = os.path.join(dest_folder,f\"chunk{i}.wav\")\n",
    "        audio_chunk.export(chunk_filename, format=\"wav\")\n",
    "        with sp.AudioFile(chunk_filename) as source:\n",
    "            audio_listened = speech.record(source)\n",
    "            try:\n",
    "                text = speech.recognize_google(audio_listened)\n",
    "            except sp.UnknownValueError as e:\n",
    "                print(\"Error:\",str(e))\n",
    "            else:\n",
    "                text=f\"{text.capitalize()}.\"\n",
    "                #print(chunk_filename, \":\",text)\n",
    "                whole_text = whole_text+text\n",
    "    f2 = open(r\"Outputs/Video-Textual-Data-English.txt\",'w+')\n",
    "    in_file2 = whole_text\n",
    "    f2.write(in_file2)\n",
    "    f2.close()\n",
    "    print(\"File succesfully saved : Outputs/Video-Textual-Data-English.txt\")\n",
    "    return whole_text"
   ]
  },
  {
   "cell_type": "markdown",
   "metadata": {},
   "source": [
    "# Text to Audio"
   ]
  },
  {
   "cell_type": "code",
   "execution_count": 11,
   "metadata": {},
   "outputs": [],
   "source": [
    "def text_to_audio(input_text):\n",
    "    language='en'\n",
    "    converted = gTTS(text=input_text, lang=language,slow=False)\n",
    "    converted.save(\"Outputs/Text-to-Audio.mp3\")\n",
    "    print(\"file save at location : Outputs/Text-to-audio.mp3\")"
   ]
  },
  {
   "cell_type": "markdown",
   "metadata": {},
   "source": [
    "# Meta data extraction"
   ]
  },
  {
   "cell_type": "code",
   "execution_count": 13,
   "metadata": {},
   "outputs": [],
   "source": [
    "def get_entities():\n",
    "    textfile = open(r\"Outputs/Clean-Tokens.txt\",'r')\n",
    "    with textfile as f:\n",
    "        content = f.read()\n",
    "    print(\"loading model\")\n",
    "    model = spacy.load(\"en_core_web_trf\")\n",
    "    print(\"loaded model\")\n",
    "    doc = model(content)\n",
    "    entities = []\n",
    "    labels = []\n",
    "    start_pos = []\n",
    "    end_pos = []\n",
    "    for ent in doc.ents:\n",
    "        entities.append(ent)\n",
    "        labels.append(ent.label_)\n",
    "        start_pos.append(ent.start_char)\n",
    "        end_pos.append(ent.end_char)\n",
    "    df = pd.DataFrame({'Entities':entities,\n",
    "                   'Labels':labels,\n",
    "                   'Position_Start':start_pos,\n",
    "                   'Position_end':end_pos})\n",
    "    location = \"Outputs/Entities.csv\"\n",
    "    df.to_csv(location)\n",
    "    print(\"File saved at :{}\".format(location))\n",
    "    return df"
   ]
  },
  {
   "cell_type": "markdown",
   "metadata": {},
   "source": [
    "# Stop words filter"
   ]
  },
  {
   "cell_type": "code",
   "execution_count": 25,
   "metadata": {},
   "outputs": [],
   "source": [
    "def stopwords_clean(text):\n",
    "    #cleaning the generated text by removing stopwords\n",
    "    tokens = [t for t in text.split()]\n",
    "    sr = stopwords.words('english')\n",
    "    clean_Tokens = tokens[:]\n",
    "    #print(tokens) remove comment to check\n",
    "    for token in tokens:\n",
    "        if token in sr:\n",
    "            clean_Tokens.remove(token)\n",
    "    # generate texfile in local directory\n",
    "    f1 = open(r\"Outputs/Clean-Tokens.txt\",'w+')\n",
    "    in_file = ' '.join(map(str,clean_Tokens))\n",
    "    f1.write(in_file)\n",
    "    f1.close()\n",
    "    print(\"File succesfully saved :Outputs/Clean-Tokens.txt\")\n",
    "    return clean_Tokens"
   ]
  },
  {
   "cell_type": "markdown",
   "metadata": {},
   "source": [
    "# Execution"
   ]
  },
  {
   "cell_type": "code",
   "execution_count": 14,
   "metadata": {},
   "outputs": [],
   "source": [
    "#enter file name here\n",
    "file_path = \"Wion_English.mp4\""
   ]
  },
  {
   "cell_type": "code",
   "execution_count": 15,
   "metadata": {},
   "outputs": [
    {
     "name": "stderr",
     "output_type": "stream",
     "text": [
      "\r",
      "chunk:   0%|                                                                       | 0/12776 [00:00<?, ?it/s, now=None]"
     ]
    },
    {
     "name": "stdout",
     "output_type": "stream",
     "text": [
      "MoviePy - Writing audio in Outputs/Extracted_audio_english.wav\n"
     ]
    },
    {
     "name": "stderr",
     "output_type": "stream",
     "text": [
      "                                                                                                                       "
     ]
    },
    {
     "name": "stdout",
     "output_type": "stream",
     "text": [
      "MoviePy - Done.\n",
      "Audio file extracted at :Outputs/Extracted_audio_english.wav\n"
     ]
    },
    {
     "name": "stderr",
     "output_type": "stream",
     "text": [
      "\r"
     ]
    }
   ],
   "source": [
    "#Video to audio\n",
    "video_to_audio(file_path)"
   ]
  },
  {
   "cell_type": "code",
   "execution_count": 16,
   "metadata": {},
   "outputs": [],
   "source": [
    "#generating text from audio\n",
    "audio_file_name = \"Outputs/Extracted_audio_english.wav\""
   ]
  },
  {
   "cell_type": "code",
   "execution_count": 17,
   "metadata": {},
   "outputs": [
    {
     "name": "stdout",
     "output_type": "stream",
     "text": [
      "Error: \n",
      "Error: \n",
      "File succesfully saved : Outputs/Video-Textual-Data-English.txt\n"
     ]
    }
   ],
   "source": [
    "generated_text=get_large_audio_chunks_eng(audio_file_name)"
   ]
  },
  {
   "cell_type": "code",
   "execution_count": 18,
   "metadata": {
    "scrolled": true
   },
   "outputs": [
    {
     "name": "stdout",
     "output_type": "stream",
     "text": [
      "Imagine this.Bank balance is dropped 20 your secret data has been wiped out of service stock prices are going crazy trains are not running because the control room don't work airports are not operating because their computers were knocked out you can't drive anyway because the traffic lights stuck on red is no internet with power out of heaven destabilized within a matter of hours your entire country plunges into chaos and you don't even know who's behind it.This is of the story of a movie or a possibility in the distant future this could happen today in real life.The question is.How are we going to stop it.Hello and welcome to private class sample ki sharma upadhyay on the 4th of july is america celebrate independence a cyber criminal gang without hacking spree it infiltrated the florida based it firm and launched ransomware attack the hacker store through the data and demanded 70 million dollars in return the victims including more than 1500 organisations around the world government agencies small businesses banks supermarket stephen school.If we call the biggest ransomware attack on record and underscores the need for companies and government agencies as well to focus on improving cyber security who was behind the cyber security community said it could be our evil.A group of hacker that was also behind the solar wind hack of 2020 that was a trojan horse exploited the software of three us firms microsoft solarwinds and vmware.What happened next.It's all the data of the biggest organisations in the world nasa ne toda european parliament the british government the us treasury department to us telecom department and the department of commerce.Who exactly what is hacker.No one knows some say that from china some other city from russia their identity remains a mystery.What is all of this tell you.The world is entering a new age of war 1 that could change everything that we know about human conflict.Recall it.Cyber warfare.Cyber war is a war for two computers it doesn't involve armies.It doesn't have clear rules.A progress is a very fast paisa cyber war can be fought in where is today's economic social cultural military.90% of cyber attacks are economic in nature targeting banks.North korea has been added for a while now and apparently has a team dedicated to robbing banks.The beagle boys.2015 the stolen from at least 30 countries in 2016 digital 81 million dollars in the bank of bangladesh.In 2018.Install 805 million rupees from india cosmos bank based in pune.Fibre was a launch for money.Also for power through propaganda.Misleading the public so in this information the kind of cyberwarfare that russian that have age.Baby neck use of meddling in the 2016 us presidential election of manipulate in both a database hacking the campaign of presidential candidate spreading propaganda on social media most of these are still accusation the russian president says he still waiting for america to provide evidence.Shambhu ki barat.Ignore.Near nagaraja.Rustom mp3.Intellectual property rights this is another big reason of cyber war.The country racing it is china in april this year a network of the spectre chinese hacking group carried out a cyber attack on microsoft email if it is 30000 american organisation.It's not sure how much data an idea store.And then we have military attack the most potent threat.This includes espionage.Crafting information.Disrupting military programs controlling command room.The most fast and to think of russia and china when we think of such attacks.No one ever thinks of america probably because americans are good at pr always putting themselves in the good guys.But washington's capabilities in carrying out cyber striker and parallel.Have you ever had.Stuxnet.It was the computer worm detected in 2010.This one almost triple iran's nuclear program.If the marksman job.The wind was introduced into an arrangement power station to a usb flash drive it then spread across the uk network exploded and look for weaknesses 16 found them the verb altered how the key systems operated leading to the failure of critical components.How much damage it cause quite a lot.If damaged at least 984 of iran's uranium and writing centrifuges a machine.But current estimates this has led to a 30% decrease in iran's uranium enrichment efficiency.Who was behind the bomb attack.It was said to be the handiwork the cia massage.Israel's intelligence agency.Tezu.Iran and edward snowden.It's more interesting.Let me show you some images from places that you may have never heard of.This is flying days.In england's north york more.If an air force station that has no place at all.This building that you see.Recalling the pyramid is actually a joint radar.Something similar miles away last dinosaurs base again with no airplane.It is another one located far in the south at beal a small town in the desert of california.One in cape cod massachusetts.An empty a force based hidden in the forest.And yet another one in the frozen north of greenland.Air force base that is no airplanes of forces.What exactly is installation the role part of america's early warning system readers built to detect attacks on american is elisa can stop incoming nuclear missile.Real pubg dedicated satellites in space.You can call it the nervous system of american defence.In january 2020 after the death of a rain in general qassem soleimani iran launched a dozen missiles at us military bases in iraq a dozen missiles and get the damage with minimal.Us space force confirm that it was this system.Which helped them counter the attack.The system work.As intended.But given the technological advancements in today's world imagine if the system would be hacked.It's going to be a nightmare scenario not only will it leave america's defence infrastructure blind it might push the entire world into chaos.According to america's greatest nuclear posture review.Which is basically an instruction manual of its weapons.20 vedas are so crucial that if they get attacked.America would respond by using nuclear weapons and this.Is a reality.A cyber warfare.Pawan cyber intrusion.Construction of a terrifying chain of events.One escalation can evolve into something apocalyptic the warning the sach doomsday scenario have been there were quite sometime in 2013 rain in hackers infiltrated the control system of a dam near new york city.Investigator describe the hack as just the tip of the iceberg they said the next target with the much larger dam in oregon.10 december 2015 the world witnessed its first power outage due to a cyber attack.Hackers compromise assistance 3 energy companies in ukraine living 200 30,000 people without electricity for 6 hours.Image 2021 there is a cyber attack on america's largest pipeline system the colonial five planet force the company to shut down operations and freeze it system.It took three days to restore the pipeline.Driving gas prices to the highest level in three years.Visible indication.The age of cyber warfare is a bonus is wide-ranging cheap anonymous and that makes it hard to come back.It can result in the collapse of supply chains market in government.Basically anything with an internet interface is address now.We like to believe that it's the government's job to protect us.But this is not declared war against an invisible enemy.So you have to be on your god.I am a security agency.How do you do that.8 simple steps with old.You secure internet connection.Check links before clicking them keep your system software strong enough to date.If your device is connected to your office network.Ensure endpoint protection.Install a firewall to block any attacks.Backup your data you never know when you might lose.And above all.Control access to your systems don't let people plugin random tips in rice is basic.And most cases we should help.On a bigger level government state to put safeguards in place.Cyberwarfare cannot remain in an regulated affair.We have nuclear conventions and treaties.The cyber is the new nucleya.So we need regulation.Pleasures from government to not promote harbour cyber mercenaries.It won't happen in a hurry.Because it wants to this government.Badhiya photo must begin.For the sake of all war.\n"
     ]
    }
   ],
   "source": [
    "print(generated_text)"
   ]
  },
  {
   "cell_type": "code",
   "execution_count": 26,
   "metadata": {},
   "outputs": [
    {
     "name": "stdout",
     "output_type": "stream",
     "text": [
      "File succesfully saved :Outputs/Clean-Tokens.txt\n"
     ]
    }
   ],
   "source": [
    "#stopwords filtering\n",
    "clean_tokens=stopwords_clean(generated_text)"
   ]
  },
  {
   "cell_type": "code",
   "execution_count": 27,
   "metadata": {},
   "outputs": [
    {
     "name": "stdout",
     "output_type": "stream",
     "text": [
      "loading model\n",
      "loaded model\n",
      "File saved at :Outputs/Entities.csv\n"
     ]
    },
    {
     "data": {
      "text/html": [
       "<div>\n",
       "<style scoped>\n",
       "    .dataframe tbody tr th:only-of-type {\n",
       "        vertical-align: middle;\n",
       "    }\n",
       "\n",
       "    .dataframe tbody tr th {\n",
       "        vertical-align: top;\n",
       "    }\n",
       "\n",
       "    .dataframe thead th {\n",
       "        text-align: right;\n",
       "    }\n",
       "</style>\n",
       "<table border=\"1\" class=\"dataframe\">\n",
       "  <thead>\n",
       "    <tr style=\"text-align: right;\">\n",
       "      <th></th>\n",
       "      <th>Entities</th>\n",
       "      <th>Labels</th>\n",
       "      <th>Position_Start</th>\n",
       "      <th>Position_end</th>\n",
       "    </tr>\n",
       "  </thead>\n",
       "  <tbody>\n",
       "    <tr>\n",
       "      <th>0</th>\n",
       "      <td>(20)</td>\n",
       "      <td>CARDINAL</td>\n",
       "      <td>34</td>\n",
       "      <td>36</td>\n",
       "    </tr>\n",
       "    <tr>\n",
       "      <th>1</th>\n",
       "      <td>(matter, hours)</td>\n",
       "      <td>TIME</td>\n",
       "      <td>244</td>\n",
       "      <td>256</td>\n",
       "    </tr>\n",
       "    <tr>\n",
       "      <th>2</th>\n",
       "      <td>(today)</td>\n",
       "      <td>DATE</td>\n",
       "      <td>369</td>\n",
       "      <td>374</td>\n",
       "    </tr>\n",
       "    <tr>\n",
       "      <th>3</th>\n",
       "      <td>(4th, july)</td>\n",
       "      <td>DATE</td>\n",
       "      <td>473</td>\n",
       "      <td>481</td>\n",
       "    </tr>\n",
       "    <tr>\n",
       "      <th>4</th>\n",
       "      <td>(florida)</td>\n",
       "      <td>GPE</td>\n",
       "      <td>567</td>\n",
       "      <td>574</td>\n",
       "    </tr>\n",
       "    <tr>\n",
       "      <th>...</th>\n",
       "      <td>...</td>\n",
       "      <td>...</td>\n",
       "      <td>...</td>\n",
       "      <td>...</td>\n",
       "    </tr>\n",
       "    <tr>\n",
       "      <th>56</th>\n",
       "      <td>(2021)</td>\n",
       "      <td>CARDINAL</td>\n",
       "      <td>5124</td>\n",
       "      <td>5128</td>\n",
       "    </tr>\n",
       "    <tr>\n",
       "      <th>57</th>\n",
       "      <td>(america)</td>\n",
       "      <td>GPE</td>\n",
       "      <td>5142</td>\n",
       "      <td>5149</td>\n",
       "    </tr>\n",
       "    <tr>\n",
       "      <th>58</th>\n",
       "      <td>(five)</td>\n",
       "      <td>CARDINAL</td>\n",
       "      <td>5185</td>\n",
       "      <td>5189</td>\n",
       "    </tr>\n",
       "    <tr>\n",
       "      <th>59</th>\n",
       "      <td>(three, days)</td>\n",
       "      <td>DATE</td>\n",
       "      <td>5249</td>\n",
       "      <td>5259</td>\n",
       "    </tr>\n",
       "    <tr>\n",
       "      <th>60</th>\n",
       "      <td>(three, years)</td>\n",
       "      <td>DATE</td>\n",
       "      <td>5310</td>\n",
       "      <td>5321</td>\n",
       "    </tr>\n",
       "  </tbody>\n",
       "</table>\n",
       "<p>61 rows × 4 columns</p>\n",
       "</div>"
      ],
      "text/plain": [
       "           Entities    Labels  Position_Start  Position_end\n",
       "0              (20)  CARDINAL              34            36\n",
       "1   (matter, hours)      TIME             244           256\n",
       "2           (today)      DATE             369           374\n",
       "3       (4th, july)      DATE             473           481\n",
       "4         (florida)       GPE             567           574\n",
       "..              ...       ...             ...           ...\n",
       "56           (2021)  CARDINAL            5124          5128\n",
       "57        (america)       GPE            5142          5149\n",
       "58           (five)  CARDINAL            5185          5189\n",
       "59    (three, days)      DATE            5249          5259\n",
       "60   (three, years)      DATE            5310          5321\n",
       "\n",
       "[61 rows x 4 columns]"
      ]
     },
     "execution_count": 27,
     "metadata": {},
     "output_type": "execute_result"
    }
   ],
   "source": [
    "#getting entities\n",
    "get_entities()"
   ]
  },
  {
   "cell_type": "code",
   "execution_count": null,
   "metadata": {},
   "outputs": [],
   "source": []
  }
 ],
 "metadata": {
  "kernelspec": {
   "display_name": "Python 3",
   "language": "python",
   "name": "python3"
  },
  "language_info": {
   "codemirror_mode": {
    "name": "ipython",
    "version": 3
   },
   "file_extension": ".py",
   "mimetype": "text/x-python",
   "name": "python",
   "nbconvert_exporter": "python",
   "pygments_lexer": "ipython3",
   "version": "3.8.5"
  }
 },
 "nbformat": 4,
 "nbformat_minor": 4
}
