{
 "cells": [
  {
   "cell_type": "code",
   "execution_count": 1,
   "metadata": {},
   "outputs": [],
   "source": [
    "import moviepy.editor\n",
    "import tkinter.filedialog\n",
    "from pydub import AudioSegment\n",
    "import os\n",
    "import speech_recognition as sp\n",
    "import spacy\n",
    "import spacy.displacy as displacy \n",
    "from better_profanity import profanity\n"
   ]
  },
  {
   "cell_type": "code",
   "execution_count": 2,
   "metadata": {},
   "outputs": [],
   "source": [
    "from pydub.silence import split_on_silence\n",
    "import os"
   ]
  },
  {
   "cell_type": "code",
   "execution_count": 3,
   "metadata": {},
   "outputs": [],
   "source": [
    "import nltk"
   ]
  },
  {
   "cell_type": "code",
   "execution_count": 4,
   "metadata": {},
   "outputs": [],
   "source": [
    "#texttoaudio API\n",
    "from gtts import gTTS"
   ]
  },
  {
   "cell_type": "code",
   "execution_count": 5,
   "metadata": {},
   "outputs": [
    {
     "name": "stderr",
     "output_type": "stream",
     "text": [
      "[nltk_data] Downloading package stopwords to\n",
      "[nltk_data]     C:\\Users\\BALAJI\\AppData\\Roaming\\nltk_data...\n",
      "[nltk_data]   Package stopwords is already up-to-date!\n"
     ]
    },
    {
     "data": {
      "text/plain": [
       "True"
      ]
     },
     "execution_count": 5,
     "metadata": {},
     "output_type": "execute_result"
    }
   ],
   "source": [
    "nltk.download('stopwords')"
   ]
  },
  {
   "cell_type": "code",
   "execution_count": 6,
   "metadata": {},
   "outputs": [],
   "source": [
    "from nltk.corpus import stopwords"
   ]
  },
  {
   "cell_type": "code",
   "execution_count": 7,
   "metadata": {},
   "outputs": [],
   "source": [
    "speech = sp.Recognizer()"
   ]
  },
  {
   "cell_type": "markdown",
   "metadata": {},
   "source": [
    "# V2A"
   ]
  },
  {
   "cell_type": "code",
   "execution_count": 9,
   "metadata": {},
   "outputs": [],
   "source": [
    "def video_to_audio(video_path,language):\n",
    "    videoSrc = video_path\n",
    "    if language == 'en':\n",
    "        audio_store = 'Outputs/Extracted_audio_english.wav'\n",
    "    elif language == 'hi':\n",
    "        audio_store = 'Outputs/Extracted_audio_hindi.wav'\n",
    "    video = moviepy.editor.VideoFileClip(videoSrc)\n",
    "    audio = video.audio\n",
    "    audio.write_audiofile(audio_store)\n",
    "    print(\"Audio file extracted at :{}\".format(audio_store))"
   ]
  },
  {
   "cell_type": "markdown",
   "metadata": {},
   "source": [
    "# Audio splitting"
   ]
  },
  {
   "cell_type": "code",
   "execution_count": 11,
   "metadata": {},
   "outputs": [],
   "source": [
    "def get_large_audio_chunks_eng(audio_file_name):\n",
    "    audio = AudioSegment.from_wav(audio_file_name)\n",
    "    # audio chunks gets splitted when pause is more than 700 milliseconds\n",
    "    chunks= split_on_silence(audio,\n",
    "                             min_silence_len=500,\n",
    "                             silence_thresh = audio.dBFS-14,\n",
    "                             keep_silence=500) \n",
    "    dest_folder = \"audio-chunks\"\n",
    "    if not os.path.isdir(dest_folder):\n",
    "        os.mkdir(dest_folder)\n",
    "    whole_text = \"\"\n",
    "    for i,audio_chunk in enumerate(chunks, start=1):\n",
    "        chunk_filename = os.path.join(dest_folder,f\"chunk{i}.wav\")\n",
    "        audio_chunk.export(chunk_filename, format=\"wav\")\n",
    "        with sp.AudioFile(chunk_filename) as source:\n",
    "            audio_listened = speech.record(source)\n",
    "            try:\n",
    "                text = speech.recognize_google(audio_listened)\n",
    "            except sp.UnknownValueError as e:\n",
    "                print(\"Error:\",str(e))\n",
    "            else:\n",
    "                text=f\"{text.capitalize()}.\"\n",
    "                #print(chunk_filename, \":\",text)\n",
    "                whole_text = whole_text+text\n",
    "    f2 = open(r\"Outputs/Video-Textual-Data-English.txt\",'w+')\n",
    "    in_file2 = whole_text\n",
    "    f2.write(in_file2)\n",
    "    f2.close()\n",
    "    print(\"File succesfully saved : Outputs/Video-Textual-Data-English.txt\")\n",
    "    return whole_text\n",
    "                    "
   ]
  },
  {
   "cell_type": "code",
   "execution_count": 22,
   "metadata": {},
   "outputs": [],
   "source": [
    "def get_large_audio_transcription_hin(path):\n",
    "    sound=AudioSegment.from_wav(path)\n",
    "    chunks=split_on_silence(sound,\n",
    "                            min_silence_len=500,\n",
    "                            silence_thresh=sound.dBFS-14,\n",
    "                            keep_silence=500)\n",
    "    folder_name='audio_chunks2'\n",
    "    if not os.path.isdir(folder_name):\n",
    "        os.mkdir(folder_name)\n",
    "    global whole_text\n",
    "    whole_text2=\" \"\n",
    "    print(\"processing...\")\n",
    "    for i,audio_chunk in enumerate(chunks,start=1):\n",
    "        chunk_filename=os.path.join(folder_name,f\"chunk{i}.wav\")\n",
    "        audio_chunk.export(chunk_filename,format=\"wav\")\n",
    "        with sp.AudioFile(chunk_filename) as source:\n",
    "            audio_listed=speech.listen(source)\n",
    "            try:\n",
    "                text=speech.recognize_google(audio_listed,language=\"hi-IN\")\n",
    "            except sp.UnknownValueError as e:\n",
    "                print('error:',str(e))\n",
    "            else:\n",
    "                text=f\"{text.capitalize()}. \"\n",
    "                #print(chunk_filename,\":\",text)\n",
    "                whole_text2+=text\n",
    "    #wait1.config(text='Extracted Completed')\n",
    "    f1 = open(r\"Outputs/Hindi-Video-Textual-Data-hindi.txt\",'w+',encoding=\"utf-8\")\n",
    "    in_file2 = whole_text2\n",
    "    f1.write(in_file2)\n",
    "    f1.close()\n",
    "    print(\"File succesfully saved : Outputs/Video-Textual-Data-Hindi.txt\")\n",
    "    return whole_text2"
   ]
  },
  {
   "cell_type": "markdown",
   "metadata": {},
   "source": [
    "# Stopwords filtering"
   ]
  },
  {
   "cell_type": "code",
   "execution_count": 25,
   "metadata": {},
   "outputs": [],
   "source": [
    "def stopwords_clean(text):\n",
    "    #cleaning the generated text by removing stopwords\n",
    "    tokens = [t for t in text.split()]\n",
    "    sr = stopwords.words('english')\n",
    "    clean_Tokens = tokens[:]\n",
    "    #print(tokens) remove comment to check\n",
    "    for token in tokens:\n",
    "        if token in sr:\n",
    "            clean_Tokens.remove(token)\n",
    "    # generate texfile in local directory\n",
    "    f1 = open(r\"Outputs/Clean-Tokens.txt\",'w+')\n",
    "    in_file = ' '.join(map(str,clean_Tokens))\n",
    "    f1.write(in_file)\n",
    "    f1.close()\n",
    "    print(\"File succesfully saved :Outputs/Clean-Tokens.txt\")\n",
    "    return clean_Tokens"
   ]
  },
  {
   "cell_type": "markdown",
   "metadata": {},
   "source": [
    "# Text to Audio"
   ]
  },
  {
   "cell_type": "code",
   "execution_count": 14,
   "metadata": {},
   "outputs": [],
   "source": [
    "def text_to_audio(input_text):\n",
    "    language='en'\n",
    "    converted = gTTS(text=input_text, lang=language,slow=False)\n",
    "    converted.save(\"Outputs/Text-to-Audio.mp3\")\n",
    "    print(\"file save at location : Outputs/Text-to-audio.mp3\")"
   ]
  },
  {
   "cell_type": "markdown",
   "metadata": {
    "scrolled": true
   },
   "source": [
    "# Execution"
   ]
  },
  {
   "cell_type": "code",
   "execution_count": 15,
   "metadata": {},
   "outputs": [
    {
     "name": "stderr",
     "output_type": "stream",
     "text": [
      "\r",
      "chunk:   0%|                                                                       | 0/12776 [00:00<?, ?it/s, now=None]"
     ]
    },
    {
     "name": "stdout",
     "output_type": "stream",
     "text": [
      "MoviePy - Writing audio in Outputs/Extracted_audio_english.wav\n"
     ]
    },
    {
     "name": "stderr",
     "output_type": "stream",
     "text": [
      "                                                                                                                       "
     ]
    },
    {
     "name": "stdout",
     "output_type": "stream",
     "text": [
      "MoviePy - Done.\n",
      "Audio file extracted at :Outputs/Extracted_audio_english.wav\n"
     ]
    },
    {
     "name": "stderr",
     "output_type": "stream",
     "text": [
      "\r"
     ]
    }
   ],
   "source": [
    "#generating audio file\n",
    "video_to_audio(\"Wion_English.mp4\",language='en')"
   ]
  },
  {
   "cell_type": "markdown",
   "metadata": {},
   "source": [
    "# English"
   ]
  },
  {
   "cell_type": "code",
   "execution_count": 16,
   "metadata": {},
   "outputs": [],
   "source": [
    "audio_file_name = \"Outputs/Extracted_audio_english.wav\""
   ]
  },
  {
   "cell_type": "code",
   "execution_count": 18,
   "metadata": {
    "scrolled": true
   },
   "outputs": [
    {
     "name": "stdout",
     "output_type": "stream",
     "text": [
      "Error: \n",
      "Error: \n",
      "File succesfully saved : Outputs/Video-Textual-Data-English.txt\n"
     ]
    }
   ],
   "source": [
    "#Generating text\n",
    "generated_text=get_large_audio_chunks_eng(audio_file_name)"
   ]
  },
  {
   "cell_type": "code",
   "execution_count": 20,
   "metadata": {
    "scrolled": true
   },
   "outputs": [
    {
     "name": "stdout",
     "output_type": "stream",
     "text": [
      "Imagine this.Bank balance is dropped 20 your secret data has been wiped out of service stock prices are going crazy trains are not running because the control room don't work airports are not operating because their computers were knocked out you can't drive anyway because the traffic lights stuck on red is no internet with power out of heaven destabilized within a matter of hours your entire country plunges into chaos and you don't even know who's behind it.This is of the story of a movie or a possibility in the distant future this could happen today in real life.The question is.How are we going to stop it.Hello and welcome to private class sample ki sharma upadhyay on the 4th of july is america celebrate independence a cyber criminal gang without hacking spree it infiltrated the florida based it firm and launched ransomware attack the hacker store through the data and demanded 70 million dollars in return the victims including more than 1500 organisations around the world government agencies small businesses banks supermarket stephen school.If we call the biggest ransomware attack on record and underscores the need for companies and government agencies as well to focus on improving cyber security who was behind the cyber security community said it could be our evil.A group of hacker that was also behind the solar wind hack of 2020 that was a trojan horse exploited the software of three us firms microsoft solarwinds and vmware.What happened next.It's all the data of the biggest organisations in the world nasa ne toda european parliament the british government the us treasury department to us telecom department and the department of commerce.Who exactly what is hacker.No one knows some say that from china some other city from russia their identity remains a mystery.What is all of this tell you.The world is entering a new age of war 1 that could change everything that we know about human conflict.Recall it.Cyber warfare.Cyber war is a war for two computers it doesn't involve armies.It doesn't have clear rules.A progress is a very fast paisa cyber war can be fought in where is today's economic social cultural military.90% of cyber attacks are economic in nature targeting banks.North korea has been added for a while now and apparently has a team dedicated to robbing banks.The beagle boys.2015 the stolen from at least 30 countries in 2016 digital 81 million dollars in the bank of bangladesh.In 2018.Install 805 million rupees from india cosmos bank based in pune.Fibre was a launch for money.Also for power through propaganda.Misleading the public so in this information the kind of cyberwarfare that russian that have age.Baby neck use of meddling in the 2016 us presidential election of manipulate in both a database hacking the campaign of presidential candidate spreading propaganda on social media most of these are still accusation the russian president says he still waiting for america to provide evidence.Shambhu ki barat.Adna.Near nagaraja.Rustom mp3.Intellectual property rights this is another big reason of cyber war.The country racing it is china in april this year a network of the spectre chinese hacking group carried out a cyber attack on microsoft email if it is 30000 american organisation.It's not sure how much data an idea store.And then we have military attack the most potent threat.This includes espionage.Crafting information.Disrupting military programs controlling command room.The most fast and to think of russia and china when we think of such attacks.No one ever thinks of america probably because americans are good at pr always putting themselves in the good guys.But washington's capabilities in carrying out cyber striker and parallel.Have you ever had.Stuxnet.It was the computer worm detected in 2010.This one almost triple iran's nuclear program.If the marksman job.The wind was introduced into an arrangement power station to a usb flash drive it then spread across the uk network exploded and look for weaknesses 16 found them the worm altered how the key systems operated leading to the failure of critical components.How much damage it cause quite a lot.If damaged at least 984 of iran's uranium and writing centrifuges a machine.But current estimates this has led to a 30% decrease in iran's uranium enrichment efficiency.Who was behind the bomb attack.It was said to be the handiwork the cia massage.Israel's intelligence agency.Tezu.Iran and edward snowden.It's more interesting.Let me show you some images from places that you may have never heard of.This is flying days.In england's north york moors.If an air force station that has no place at all.This building that you see.Recalling the pyramid is actually a joint radar.Something similar miles away last dinosaurs base again with no airplane.It is another one located far in the south at beal a small town in the desert of california.One in cape cod massachusetts.An empty a force based hidden in the forest.And yet another one in the frozen north of greenland.Air force base that is no airplanes of forces.What exactly is installation the role part of america's early warning system readers built to detect attacks on american is elisa can stop incoming nuclear missile.Real pubg dedicated satellites in space.You can call it the nervous system of american defence.In january 2020 after the death of a rain in general qassem soleimani iran launched a dozen missiles at us military bases in iraq a dozen missiles and get the damage with minimal.Us space force confirm that it was this system.Which helped them counter the attack.The system work.As intended.But given the technological advancements in today's world imagine if the system would be hacked.It's going to be a nightmare scenario not only will it leave america's defence infrastructure blind it might push the entire world into chaos.According to america's greatest nuclear posture review.Which is basically an instruction manual of its weapons.20 vedas are so crucial that if they get attacked.America would respond by using nuclear weapons and this.Is a reality.A cyber warfare.Pawan cyber intrusion.Construction of a terrifying chain of events.One escalation can evolve into something apocalyptic the warning the sach doomsday scenario have been there were quite sometime in 2013 rain in hackers infiltrated the control system of a dam near new york city.Investigator describe the hack as just the tip of the iceberg they said the next target with the much larger dam in oregon.10 december 2015 the world witnessed its first power outage due to a cyber attack.Hackers compromise assistance 3 energy companies in ukraine living 200 30,000 people without electricity for 6 hours.Image 2021 there is a cyber attack on america's largest pipeline system the colonial five planet force the company to shut down operations and freeze it system.It took three days to restore the pipeline.Driving gas prices to the highest level in three years.Visible indication.The age of cyber warfare is a bonus is wide-ranging cheap anonymous and that makes it hard to come back.It can result in the collapse of supply chains market in government.Basically anything with an internet interface is address now.I like to believe that it's the government job to protect us.But this is not declared war against an invisible enemy.So you have to be on your god.I am a security agency.How do you do that.8 simple steps with old.You secure internet connection.Check links before clicking them keep your system software strong enough to date.If your device is connected to your office network.Ensure endpoint protection.Install a firewall to block any attacks.Backup your data you never know when you might lose.And above all.Control access to your systems don't let people plugin random tips in rice is basic.And most cases we should help.On a bigger level government state to put safeguards in place.Cyberwarfare cannot remain in an regulated affair.We have nuclear conventions and treaties.The cyber is the new nucleya.So we need regulation.Pleasures from government to not promote harbour cyber mercenaries.It won't happen in a hurry.Because it wants to this government.Badhiya photo must begin.For the sake of all war.\n"
     ]
    }
   ],
   "source": [
    "print(generated_text)"
   ]
  },
  {
   "cell_type": "markdown",
   "metadata": {},
   "source": [
    "# Hindi"
   ]
  },
  {
   "cell_type": "code",
   "execution_count": 19,
   "metadata": {},
   "outputs": [
    {
     "name": "stderr",
     "output_type": "stream",
     "text": [
      "\r",
      "chunk:   0%|                                                                        | 0/7884 [00:00<?, ?it/s, now=None]"
     ]
    },
    {
     "name": "stdout",
     "output_type": "stream",
     "text": [
      "MoviePy - Writing audio in Outputs/Extracted_audio_hindi.wav\n"
     ]
    },
    {
     "name": "stderr",
     "output_type": "stream",
     "text": [
      "                                                                                                                       "
     ]
    },
    {
     "name": "stdout",
     "output_type": "stream",
     "text": [
      "MoviePy - Done.\n",
      "Audio file extracted at :Outputs/Extracted_audio_hindi.wav\n"
     ]
    },
    {
     "name": "stderr",
     "output_type": "stream",
     "text": [
      "\r"
     ]
    }
   ],
   "source": [
    "video_to_audio(\"Zee-News-hindi.mp4\",language='hi')"
   ]
  },
  {
   "cell_type": "code",
   "execution_count": 23,
   "metadata": {},
   "outputs": [
    {
     "name": "stdout",
     "output_type": "stream",
     "text": [
      "processing...\n",
      "File succesfully saved : Outputs/Video-Textual-Data-Hindi.txt\n"
     ]
    }
   ],
   "source": [
    "generated_text_hindi= get_large_audio_transcription_hin(\"Outputs/Extracted_audio_hindi.wav\")"
   ]
  },
  {
   "cell_type": "code",
   "execution_count": 24,
   "metadata": {
    "scrolled": true
   },
   "outputs": [
    {
     "name": "stdout",
     "output_type": "stream",
     "text": [
      " और इस वक्त बेहद दुखद खबर आ रही है अभिनेता दिलीप कुमार का निधन हो गया है मुंबई के हिंदुजा अस्पताल में दिलीप कुमार ने अंतिम सांस ली है दिलीप कुमार का निधन हो गया है 98 साल की उम्र में दिलीप कुमार का निधन हुआ है आज सुबह. 7:30. दिलीप कुमार का निधन हुआ है. मुझे बेहद दुखद खबर है. मोहम्मद यूसुफ खान. दिलीप कुमार का 98 साल की उम्र में निधन हो गया है दिलीप कुमार पिछले काफी वक्त से हमने देखा है कि बहुत बार लोगों ने हिंदुजा अस्पताल में भर्ती भी कराया गया सांस लेने में तकलीफ होने लगातार हो रही थी लेकिन फिलहाल. यह खबर आई है कि उनका निधन हो गया है यह बेहद अपने आप में कह सकते हैं कि एक युग का अंत है दिलीप कुमार. जुकी बॉलीवुड का एचडी किंग बॉलीवुड का पहला सुपरस्टार के बॉलीवुड के हमें कह सकते हैं कि सबसे बड़े सुपरस्टार दिया मैंने कह सकते हैं दिलीप कुमार रहे हैं. और दिलीप कुमार के साथ हमेशा सारा बानो साथ खड़ी रही है जब भी वह हिंदुजा अस्पताल जाते रहे जबकि वह दूसरे अस्पताल जागते रहे कोकिलाबेन अस्पताल भी गए लेकिन हिंदुजा अस्पताल जो कि कोविड-19 पता था जिसको सांस लेने में तकलीफ हुई थी उसके बाद उनको वहां से छुट्टी मिल गई थी लेकिन दोबारा हिंदुजा अस्पताल में भर्ती कराया गया था. बेहद दुखद खबर आ रही है दिलीप कुमार का निधन हो गया है आज सुबह. 7:30 बजे दिलीप कुमार ने अंतिम सांस ली है. दिलीप कुमार जैन का असली नाम. युसूफ खान था 11 दिसंबर 1922 को उनका जन्म हुआ था. उस वक्त. हिंदुस्तान एक हुआ करता था पाकिस्तान में प्रचार किए वहां पर उनका जन्म हुआ था. और. बहुत सी फिल्मों में उन्होंने एक्टिंग की. पहले सुपरस्टार एचडी किंग का. पंगा उनको मिला. ज्वार भाटा सोनू ने अपने करियर की शुरुआत की थी 1944 से. बॉम्बे टॉकीज ने इस फिल्म को प्रोड्यूस किया था उसके बाद अंदाज अंदाज देवदास. देवदास के दिलीप कुमार को कौन भूल सकता है आजाद mughal-e-azam यानी कि 1 तरीके से कह सकते हैं कि युग का अंत हो गया है लेकिन वह युग जो कि पीछे हमेशा से छोड़ कर के गए हैं हमेशा जो याद किया जाता है दिलीप कुमार अमर थे अमर है अमर रहेंगे लेकिन दिलीप कुमार इस बीच दुखद खबर है कि हमारे बीच नहीं रहे हैं 98 साल की उम्र में. दिलीप कुमार के निधन की खबर आ रही है. रवि कुमार जो कि अभी हाल ही में लगातार लगभग 1990 के दशक में देखा क्रांति हो सकती हो. दिलीप कुमार एक लंबे वक्त तक शर्मा के साथ जुड़े रहे. पहले सुपर स्टार का दर्जा हमीने दे सकते हैं कि बॉलीवुड के पहले सुपरस्टार एचडी किंग. स्पीच. दिलीप साहब. हमारे बीच युसूफ साहब हमारे बीच नहीं रहे हैं. अरे शाहरुख खान हो सलमान खान हो या फिर दशमी के तमाम ना बड़े अभिनेताओं नसरुद्दीन शाह हो. हर आदमी जो है दिलीप साहब के आगे नतमस्तक हमेशा से रहा है जिस तरीके का उनका उदास जिस तरीके गंगा और आ रहा है. और अगले उनका जन्मदिन रहा हो जब उनके घर पर कभी जन्मदिन ना बनाने की कुछ तस्वीरें सामने आती रही हो या फिर कुछ और रहा हो हमेशा दिलीप साहब के लिए पूरा बॉलीवुड एक साथ खड़ा है पूरा बॉलीवुड जो है एक तरीके से उनको सलाम करता रहा है आज एक शोक की लहर बॉलीवुड के लिए हमारे बीच नहीं रहे. 98 साल की उम्र में दिलीप साहब का निधन हुआ है. हिंदुजा अस्पताल में उन को भर्ती कराया गया तो इससे पहले भी सांस लेने में तकलीफ के चलते उनको हिंदुजा अस्पताल में भर्ती कराया गया था. लेकिन इस बीच उनकी छुट्टी हो गई थी वहां से डिस्चार्ज ने कर दिया गया था ठीक हो गए थे. ऑल. इससे पहले भी दो बार इस तरह की खबर आई तो बर्बाद होने. रागिनी स्कूटी के दिलीप साहब की फेक. जो है मृत्यु की खबर जो है वह गलत है इस तरह की खबरों को खत्म किया जाए वह बिल्कुल ठीक है साथ लेते हैं ठीक-ठाक हैं. लेकिन इसमें यह एक बेहद दुखद खबर आई है कि 98 साल की उम्र में दिलीप साहब नहीं रहे हैं. आज 7:30 बजे. दिलीप साहब का निधन हो गया दिलीप साहब ने अंतिम सांस ली है. यह तस्वीर देख रही है कुछ दिन पहले की तस्वीर है जिस वक्त. उन्हें हिंदुजा अस्पताल में भर्ती कराया गया था सांस लेने में तकलीफ की वजह से. फिर उसके बाद उन्हें वहां से छुट्टी मिल गई थी डिस्चार्ज हो गए थे. लेकिन ना. लगातार. डॉक्टर कीर्ति मन को मॉनिटर कर रही थी. इसमें चाबी कुछ ही देर पहले यह खबर आई कि दिलीप साहब का. निधन हो गया है. इंडस्ट्री के सुपरस्टार इंडस्ट्री के नजदीक इन अमेरिका सकता है मेंटेरी क्यों ना करें. जिस तरीके का का दलित साफ करा है इंडस्ट्री के 1 सबसे बड़े मेंटर के तौर पर हम यह देख सकते हैं कि इंडस्ट्री का पहला सुपरस्टार इंडस्ट्री के इतना बड़ा कद जिसके आगे पूरी इंडस्ट्री जो है वो हमेशा नतमस्तक रही हमेशा जगह सलाम करती रही कि दिलीप साहब का जोधा दिलीप साहब का जो कथा. वह हर किसी ने माना उबले हिंदुस्तान और पाकिस्तान को पूरी दुनिया को पूरा. 1922 में जन्मे थे. और आज उन्होंने अंतिम सांस ली है 7:30. गूगल प्ले एप्स डाउनलोडिंग. \n"
     ]
    }
   ],
   "source": [
    "print(generated_text_hindi)"
   ]
  },
  {
   "cell_type": "code",
   "execution_count": 26,
   "metadata": {},
   "outputs": [
    {
     "name": "stdout",
     "output_type": "stream",
     "text": [
      "File succesfully saved :Outputs/Clean-Tokens.txt\n"
     ]
    }
   ],
   "source": [
    "#stopwords filtering\n",
    "clean_tokens=stopwords_clean(generated_text)"
   ]
  },
  {
   "cell_type": "code",
   "execution_count": 27,
   "metadata": {
    "scrolled": true
   },
   "outputs": [
    {
     "name": "stdout",
     "output_type": "stream",
     "text": [
      "['Imagine', 'this.Bank', 'balance', 'dropped', '20', 'secret', 'data', 'wiped', 'service', 'stock', 'prices', 'going', 'crazy', 'trains', 'running', 'control', 'room', 'work', 'airports', 'operating', 'computers', 'knocked', \"can't\", 'drive', 'anyway', 'traffic', 'lights', 'stuck', 'red', 'internet', 'power', 'heaven', 'destabilized', 'within', 'matter', 'hours', 'entire', 'country', 'plunges', 'chaos', 'even', 'know', \"who's\", 'behind', 'it.This', 'story', 'movie', 'possibility', 'distant', 'future', 'could', 'happen', 'today', 'real', 'life.The', 'question', 'is.How', 'going', 'stop', 'it.Hello', 'welcome', 'private', 'class', 'sample', 'ki', 'sharma', 'upadhyay', '4th', 'july', 'america', 'celebrate', 'independence', 'cyber', 'criminal', 'gang', 'without', 'hacking', 'spree', 'infiltrated', 'florida', 'based', 'firm', 'launched', 'ransomware', 'attack', 'hacker', 'store', 'data', 'demanded', '70', 'million', 'dollars', 'return', 'victims', 'including', '1500', 'organisations', 'around', 'world', 'government', 'agencies', 'small', 'businesses', 'banks', 'supermarket', 'stephen', 'school.If', 'call', 'biggest', 'ransomware', 'attack', 'record', 'underscores', 'need', 'companies', 'government', 'agencies', 'well', 'focus', 'improving', 'cyber', 'security', 'behind', 'cyber', 'security', 'community', 'said', 'could', 'evil.A', 'group', 'hacker', 'also', 'behind', 'solar', 'wind', 'hack', '2020', 'trojan', 'horse', 'exploited', 'software', 'three', 'us', 'firms', 'microsoft', 'solarwinds', 'vmware.What', 'happened', \"next.It's\", 'data', 'biggest', 'organisations', 'world', 'nasa', 'ne', 'toda', 'european', 'parliament', 'british', 'government', 'us', 'treasury', 'department', 'us', 'telecom', 'department', 'department', 'commerce.Who', 'exactly', 'hacker.No', 'one', 'knows', 'say', 'china', 'city', 'russia', 'identity', 'remains', 'mystery.What', 'tell', 'you.The', 'world', 'entering', 'new', 'age', 'war', '1', 'could', 'change', 'everything', 'know', 'human', 'conflict.Recall', 'it.Cyber', 'warfare.Cyber', 'war', 'war', 'two', 'computers', 'involve', 'armies.It', 'clear', 'rules.A', 'progress', 'fast', 'paisa', 'cyber', 'war', 'fought', \"today's\", 'economic', 'social', 'cultural', 'military.90%', 'cyber', 'attacks', 'economic', 'nature', 'targeting', 'banks.North', 'korea', 'added', 'apparently', 'team', 'dedicated', 'robbing', 'banks.The', 'beagle', 'boys.2015', 'stolen', 'least', '30', 'countries', '2016', 'digital', '81', 'million', 'dollars', 'bank', 'bangladesh.In', '2018.Install', '805', 'million', 'rupees', 'india', 'cosmos', 'bank', 'based', 'pune.Fibre', 'launch', 'money.Also', 'power', 'propaganda.Misleading', 'public', 'information', 'kind', 'cyberwarfare', 'russian', 'age.Baby', 'neck', 'use', 'meddling', '2016', 'us', 'presidential', 'election', 'manipulate', 'database', 'hacking', 'campaign', 'presidential', 'candidate', 'spreading', 'propaganda', 'social', 'media', 'still', 'accusation', 'russian', 'president', 'says', 'still', 'waiting', 'america', 'provide', 'evidence.Shambhu', 'ki', 'barat.Adna.Near', 'nagaraja.Rustom', 'mp3.Intellectual', 'property', 'rights', 'another', 'big', 'reason', 'cyber', 'war.The', 'country', 'racing', 'china', 'april', 'year', 'network', 'spectre', 'chinese', 'hacking', 'group', 'carried', 'cyber', 'attack', 'microsoft', 'email', '30000', 'american', \"organisation.It's\", 'sure', 'much', 'data', 'idea', 'store.And', 'military', 'attack', 'potent', 'threat.This', 'includes', 'espionage.Crafting', 'information.Disrupting', 'military', 'programs', 'controlling', 'command', 'room.The', 'fast', 'think', 'russia', 'china', 'think', 'attacks.No', 'one', 'ever', 'thinks', 'america', 'probably', 'americans', 'good', 'pr', 'always', 'putting', 'good', 'guys.But', \"washington's\", 'capabilities', 'carrying', 'cyber', 'striker', 'parallel.Have', 'ever', 'had.Stuxnet.It', 'computer', 'worm', 'detected', '2010.This', 'one', 'almost', 'triple', \"iran's\", 'nuclear', 'program.If', 'marksman', 'job.The', 'wind', 'introduced', 'arrangement', 'power', 'station', 'usb', 'flash', 'drive', 'spread', 'across', 'uk', 'network', 'exploded', 'look', 'weaknesses', '16', 'found', 'worm', 'altered', 'key', 'systems', 'operated', 'leading', 'failure', 'critical', 'components.How', 'much', 'damage', 'cause', 'quite', 'lot.If', 'damaged', 'least', '984', \"iran's\", 'uranium', 'writing', 'centrifuges', 'machine.But', 'current', 'estimates', 'led', '30%', 'decrease', \"iran's\", 'uranium', 'enrichment', 'efficiency.Who', 'behind', 'bomb', 'attack.It', 'said', 'handiwork', 'cia', \"massage.Israel's\", 'intelligence', 'agency.Tezu.Iran', 'edward', \"snowden.It's\", 'interesting.Let', 'show', 'images', 'places', 'may', 'never', 'heard', 'of.This', 'flying', 'days.In', \"england's\", 'north', 'york', 'moors.If', 'air', 'force', 'station', 'place', 'all.This', 'building', 'see.Recalling', 'pyramid', 'actually', 'joint', 'radar.Something', 'similar', 'miles', 'away', 'last', 'dinosaurs', 'base', 'airplane.It', 'another', 'one', 'located', 'far', 'south', 'beal', 'small', 'town', 'desert', 'california.One', 'cape', 'cod', 'massachusetts.An', 'empty', 'force', 'based', 'hidden', 'forest.And', 'yet', 'another', 'one', 'frozen', 'north', 'greenland.Air', 'force', 'base', 'airplanes', 'forces.What', 'exactly', 'installation', 'role', 'part', \"america's\", 'early', 'warning', 'system', 'readers', 'built', 'detect', 'attacks', 'american', 'elisa', 'stop', 'incoming', 'nuclear', 'missile.Real', 'pubg', 'dedicated', 'satellites', 'space.You', 'call', 'nervous', 'system', 'american', 'defence.In', 'january', '2020', 'death', 'rain', 'general', 'qassem', 'soleimani', 'iran', 'launched', 'dozen', 'missiles', 'us', 'military', 'bases', 'iraq', 'dozen', 'missiles', 'get', 'damage', 'minimal.Us', 'space', 'force', 'confirm', 'system.Which', 'helped', 'counter', 'attack.The', 'system', 'work.As', 'intended.But', 'given', 'technological', 'advancements', \"today's\", 'world', 'imagine', 'system', 'would', \"hacked.It's\", 'going', 'nightmare', 'scenario', 'leave', \"america's\", 'defence', 'infrastructure', 'blind', 'might', 'push', 'entire', 'world', 'chaos.According', \"america's\", 'greatest', 'nuclear', 'posture', 'review.Which', 'basically', 'instruction', 'manual', 'weapons.20', 'vedas', 'crucial', 'get', 'attacked.America', 'would', 'respond', 'using', 'nuclear', 'weapons', 'this.Is', 'reality.A', 'cyber', 'warfare.Pawan', 'cyber', 'intrusion.Construction', 'terrifying', 'chain', 'events.One', 'escalation', 'evolve', 'something', 'apocalyptic', 'warning', 'sach', 'doomsday', 'scenario', 'quite', 'sometime', '2013', 'rain', 'hackers', 'infiltrated', 'control', 'system', 'dam', 'near', 'new', 'york', 'city.Investigator', 'describe', 'hack', 'tip', 'iceberg', 'said', 'next', 'target', 'much', 'larger', 'dam', 'oregon.10', 'december', '2015', 'world', 'witnessed', 'first', 'power', 'outage', 'due', 'cyber', 'attack.Hackers', 'compromise', 'assistance', '3', 'energy', 'companies', 'ukraine', 'living', '200', '30,000', 'people', 'without', 'electricity', '6', 'hours.Image', '2021', 'cyber', 'attack', \"america's\", 'largest', 'pipeline', 'system', 'colonial', 'five', 'planet', 'force', 'company', 'shut', 'operations', 'freeze', 'system.It', 'took', 'three', 'days', 'restore', 'pipeline.Driving', 'gas', 'prices', 'highest', 'level', 'three', 'years.Visible', 'indication.The', 'age', 'cyber', 'warfare', 'bonus', 'wide-ranging', 'cheap', 'anonymous', 'makes', 'hard', 'come', 'back.It', 'result', 'collapse', 'supply', 'chains', 'market', 'government.Basically', 'anything', 'internet', 'interface', 'address', 'now.I', 'like', 'believe', 'government', 'job', 'protect', 'us.But', 'declared', 'war', 'invisible', 'enemy.So', 'god.I', 'security', 'agency.How', 'that.8', 'simple', 'steps', 'old.You', 'secure', 'internet', 'connection.Check', 'links', 'clicking', 'keep', 'system', 'software', 'strong', 'enough', 'date.If', 'device', 'connected', 'office', 'network.Ensure', 'endpoint', 'protection.Install', 'firewall', 'block', 'attacks.Backup', 'data', 'never', 'know', 'might', 'lose.And', 'all.Control', 'access', 'systems', 'let', 'people', 'plugin', 'random', 'tips', 'rice', 'basic.And', 'cases', 'help.On', 'bigger', 'level', 'government', 'state', 'put', 'safeguards', 'place.Cyberwarfare', 'cannot', 'remain', 'regulated', 'affair.We', 'nuclear', 'conventions', 'treaties.The', 'cyber', 'new', 'nucleya.So', 'need', 'regulation.Pleasures', 'government', 'promote', 'harbour', 'cyber', 'mercenaries.It', 'happen', 'hurry.Because', 'wants', 'government.Badhiya', 'photo', 'must', 'begin.For', 'sake', 'war.']\n"
     ]
    }
   ],
   "source": [
    "print(clean_tokens)"
   ]
  },
  {
   "cell_type": "code",
   "execution_count": 22,
   "metadata": {},
   "outputs": [
    {
     "name": "stdout",
     "output_type": "stream",
     "text": [
      "file save at location : Outputs/Text-to-audio.mp3\n"
     ]
    }
   ],
   "source": [
    "#text to audio\n",
    "text_to_audio(generated_text)"
   ]
  },
  {
   "cell_type": "code",
   "execution_count": null,
   "metadata": {},
   "outputs": [],
   "source": []
  },
  {
   "cell_type": "code",
   "execution_count": null,
   "metadata": {},
   "outputs": [],
   "source": []
  }
 ],
 "metadata": {
  "kernelspec": {
   "display_name": "Python 3",
   "language": "python",
   "name": "python3"
  },
  "language_info": {
   "codemirror_mode": {
    "name": "ipython",
    "version": 3
   },
   "file_extension": ".py",
   "mimetype": "text/x-python",
   "name": "python",
   "nbconvert_exporter": "python",
   "pygments_lexer": "ipython3",
   "version": "3.8.5"
  }
 },
 "nbformat": 4,
 "nbformat_minor": 4
}
